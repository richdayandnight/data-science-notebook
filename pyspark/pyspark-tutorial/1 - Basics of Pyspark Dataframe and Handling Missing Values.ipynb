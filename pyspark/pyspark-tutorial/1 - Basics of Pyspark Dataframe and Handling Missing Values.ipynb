{
 "cells": [
  {
   "cell_type": "markdown",
   "id": "b5eb9ff7-6127-461b-ab5b-ba4570cdbe2b",
   "metadata": {},
   "source": [
    "# Reading & Filling Missing Values"
   ]
  },
  {
   "cell_type": "code",
   "execution_count": 1,
   "id": "78323856-2522-45ab-9c28-ff7aebd517d7",
   "metadata": {},
   "outputs": [],
   "source": [
    "import pyspark"
   ]
  },
  {
   "cell_type": "code",
   "execution_count": 2,
   "id": "01c90285-12c6-4a41-b54d-3c5c436cf2fa",
   "metadata": {},
   "outputs": [],
   "source": [
    "import pandas as pd"
   ]
  },
  {
   "cell_type": "code",
   "execution_count": 3,
   "id": "c981f62a-2d3a-4c33-a0d1-10cdd193d762",
   "metadata": {},
   "outputs": [],
   "source": [
    "highest_grossers = pd.read_csv('archive/HighestGrossers.csv')"
   ]
  },
  {
   "cell_type": "code",
   "execution_count": 4,
   "id": "eee6fe93-7a02-4616-b4bf-f5258166ad0c",
   "metadata": {},
   "outputs": [
    {
     "name": "stdout",
     "output_type": "stream",
     "text": [
      "<class 'pandas.core.frame.DataFrame'>\n",
      "RangeIndex: 27 entries, 0 to 26\n",
      "Data columns (total 8 columns):\n",
      " #   Column                 Non-Null Count  Dtype \n",
      "---  ------                 --------------  ----- \n",
      " 0   YEAR                   27 non-null     int64 \n",
      " 1   MOVIE                  27 non-null     object\n",
      " 2   GENRE                  24 non-null     object\n",
      " 3   MPAA RATING            27 non-null     object\n",
      " 4   DISTRIBUTOR            27 non-null     object\n",
      " 5   TOTAL FOR YEAR         27 non-null     object\n",
      " 6   TOTAL IN 2019 DOLLARS  27 non-null     object\n",
      " 7   TICKETS SOLD           27 non-null     object\n",
      "dtypes: int64(1), object(7)\n",
      "memory usage: 1.8+ KB\n"
     ]
    }
   ],
   "source": [
    "highest_grossers.info()"
   ]
  },
  {
   "cell_type": "markdown",
   "id": "8445a54b-4144-429b-bc94-b9164e284251",
   "metadata": {},
   "source": [
    "Start pyspark session"
   ]
  },
  {
   "cell_type": "code",
   "execution_count": 5,
   "id": "e40ab28b-35d4-4679-a189-c8cc113286f9",
   "metadata": {},
   "outputs": [],
   "source": [
    "from pyspark.sql import SparkSession"
   ]
  },
  {
   "cell_type": "code",
   "execution_count": 6,
   "id": "33ee963b-3d68-46a3-b4f6-6a2ace539c78",
   "metadata": {},
   "outputs": [
    {
     "name": "stderr",
     "output_type": "stream",
     "text": [
      "22/01/25 11:30:46 WARN Utils: Your hostname, rich resolves to a loopback address: 127.0.1.1; using 192.168.68.114 instead (on interface wlp0s20f3)\n",
      "22/01/25 11:30:46 WARN Utils: Set SPARK_LOCAL_IP if you need to bind to another address\n",
      "WARNING: An illegal reflective access operation has occurred\n",
      "WARNING: Illegal reflective access by org.apache.spark.unsafe.Platform (file:/home/rich/.pyenv/versions/3.9.1/envs/pyspark-env/lib/python3.9/site-packages/pyspark/jars/spark-unsafe_2.12-3.2.0.jar) to constructor java.nio.DirectByteBuffer(long,int)\n",
      "WARNING: Please consider reporting this to the maintainers of org.apache.spark.unsafe.Platform\n",
      "WARNING: Use --illegal-access=warn to enable warnings of further illegal reflective access operations\n",
      "WARNING: All illegal access operations will be denied in a future release\n",
      "Using Spark's default log4j profile: org/apache/spark/log4j-defaults.properties\n",
      "Setting default log level to \"WARN\".\n",
      "To adjust logging level use sc.setLogLevel(newLevel). For SparkR, use setLogLevel(newLevel).\n",
      "22/01/25 11:30:46 WARN NativeCodeLoader: Unable to load native-hadoop library for your platform... using builtin-java classes where applicable\n"
     ]
    }
   ],
   "source": [
    "spark = SparkSession.builder.appName('Practice').getOrCreate()"
   ]
  },
  {
   "cell_type": "code",
   "execution_count": 7,
   "id": "17dc0983-740b-4e15-b810-b8a449a2b91e",
   "metadata": {},
   "outputs": [
    {
     "data": {
      "text/html": [
       "\n",
       "            <div>\n",
       "                <p><b>SparkSession - in-memory</b></p>\n",
       "                \n",
       "        <div>\n",
       "            <p><b>SparkContext</b></p>\n",
       "\n",
       "            <p><a href=\"http://192.168.68.114:4040\">Spark UI</a></p>\n",
       "\n",
       "            <dl>\n",
       "              <dt>Version</dt>\n",
       "                <dd><code>v3.2.0</code></dd>\n",
       "              <dt>Master</dt>\n",
       "                <dd><code>local[*]</code></dd>\n",
       "              <dt>AppName</dt>\n",
       "                <dd><code>Practice</code></dd>\n",
       "            </dl>\n",
       "        </div>\n",
       "        \n",
       "            </div>\n",
       "        "
      ],
      "text/plain": [
       "<pyspark.sql.session.SparkSession at 0x7fd4527884c0>"
      ]
     },
     "execution_count": 7,
     "metadata": {},
     "output_type": "execute_result"
    }
   ],
   "source": [
    "spark"
   ]
  },
  {
   "cell_type": "code",
   "execution_count": 8,
   "id": "59a32ce8-b690-4ab5-bba4-f04b282d4007",
   "metadata": {},
   "outputs": [],
   "source": [
    "df_pyspark = spark.read.option(\"header\", \"true\").csv(\"archive/HighestGrossers.csv\", inferSchema=True)"
   ]
  },
  {
   "cell_type": "code",
   "execution_count": 9,
   "id": "2e65e69c-7288-4def-968c-9b8dae6cb35f",
   "metadata": {},
   "outputs": [
    {
     "data": {
      "text/plain": [
       "DataFrame[YEAR: int, MOVIE: string, GENRE: string, MPAA RATING: string, DISTRIBUTOR: string, TOTAL FOR YEAR: string, TOTAL IN 2019 DOLLARS: string, TICKETS SOLD: string]"
      ]
     },
     "execution_count": 9,
     "metadata": {},
     "output_type": "execute_result"
    }
   ],
   "source": [
    "df_pyspark"
   ]
  },
  {
   "cell_type": "code",
   "execution_count": 10,
   "id": "1d41675f-4b05-45e6-aa6e-ed7d500fa5f2",
   "metadata": {},
   "outputs": [
    {
     "name": "stdout",
     "output_type": "stream",
     "text": [
      "+----+--------------------+---------+-----------+------------------+--------------+---------------------+------------+\n",
      "|YEAR|               MOVIE|    GENRE|MPAA RATING|       DISTRIBUTOR|TOTAL FOR YEAR|TOTAL IN 2019 DOLLARS|TICKETS SOLD|\n",
      "+----+--------------------+---------+-----------+------------------+--------------+---------------------+------------+\n",
      "|1995|      Batman Forever|    Drama|      PG-13|      Warner Bros.|  $184,031,112|         $387,522,978| 4,23,06,002|\n",
      "|1996|    Independence Day|Adventure|      PG-13|  20th Century Fox|  $306,169,255|         $634,504,608| 6,92,69,062|\n",
      "|1997|        Men in Black|Adventure|      PG-13|     Sony Pictures|  $250,650,052|         $500,207,943| 5,46,07,854|\n",
      "|1998|             Titanic|Adventure|      PG-13|Paramount Pictures|  $443,319,081|         $865,842,808| 9,45,24,324|\n",
      "|1999|Star Wars Ep. I: ...|Adventure|         PG|  20th Century Fox|  $430,443,350|         $776,153,749| 8,47,32,942|\n",
      "|2000|How the Grinch St...|Adventure|         PG|         Universal|  $253,367,455|         $430,583,644| 4,70,06,948|\n",
      "|2001|Harry Potter and ...|Adventure|         PG|      Warner Bros.|  $300,404,434|         $486,166,890| 5,30,74,988|\n",
      "|2002|          Spider-Man|Adventure|      PG-13|     Sony Pictures|  $403,706,375|         $636,480,273| 6,94,84,746|\n",
      "|2003|        Finding Nemo|Adventure|          G|       Walt Disney|  $339,714,367|         $516,050,346| 5,63,37,374|\n",
      "|2004|             Shrek 2|Adventure|         PG|    Dreamworks SKG|  $441,226,247|         $650,826,473| 7,10,50,925|\n",
      "|2005|Star Wars Ep. III...|   Action|      PG-13|  20th Century Fox|  $380,270,577|         $543,413,171| 5,93,24,582|\n",
      "|2006|Pirates of the Ca...|   Action|      PG-13|       Walt Disney|  $423,315,812|         $591,995,851| 6,46,28,368|\n",
      "|2007|        Spider-Man 3|Adventure|      PG-13|     Sony Pictures|  $336,530,303|         $448,054,878| 4,89,14,288|\n",
      "|2008|     The Dark Knight|Adventure|      PG-13|      Warner Bros.|  $531,001,578|         $677,433,772| 7,39,55,652|\n",
      "|2009|Transformers: Rev...|   Action|      PG-13|Paramount Pictures|  $402,111,870|         $491,112,631| 5,36,14,916|\n",
      "|2010|         Toy Story 3|   Action|          G|       Walt Disney|  $415,004,880|         $481,805,411| 5,25,98,844|\n",
      "|2011|Harry Potter and ...|   Action|      PG-13|      Warner Bros.|  $381,011,219|         $440,108,798| 4,80,46,812|\n",
      "|2012|        The Avengers|Adventure|      PG-13|       Walt Disney|  $623,357,910|         $717,331,462| 7,83,11,295|\n",
      "|2013|          Iron Man 3|Adventure|      PG-13|       Walt Disney|  $408,992,272|         $460,808,016| 5,03,06,552|\n",
      "|2014|Guardians of the ...|Adventure|      PG-13|       Walt Disney|  $333,055,258|         $373,413,235| 4,07,65,637|\n",
      "+----+--------------------+---------+-----------+------------------+--------------+---------------------+------------+\n",
      "only showing top 20 rows\n",
      "\n"
     ]
    }
   ],
   "source": [
    "df_pyspark.show()"
   ]
  },
  {
   "cell_type": "code",
   "execution_count": 11,
   "id": "5a8aa878-2185-4641-9350-2f44eb3f7a76",
   "metadata": {},
   "outputs": [
    {
     "data": {
      "text/plain": [
       "pyspark.sql.dataframe.DataFrame"
      ]
     },
     "execution_count": 11,
     "metadata": {},
     "output_type": "execute_result"
    }
   ],
   "source": [
    "type(df_pyspark)"
   ]
  },
  {
   "cell_type": "code",
   "execution_count": 12,
   "id": "fcdccd72-5176-406a-84d0-fb55abe06b4d",
   "metadata": {},
   "outputs": [
    {
     "data": {
      "text/plain": [
       "[Row(YEAR=1995, MOVIE='Batman Forever', GENRE='Drama', MPAA RATING='PG-13', DISTRIBUTOR='Warner Bros.', TOTAL FOR YEAR='$184,031,112', TOTAL IN 2019 DOLLARS='$387,522,978', TICKETS SOLD='4,23,06,002'),\n",
       " Row(YEAR=1996, MOVIE='Independence Day', GENRE='Adventure', MPAA RATING='PG-13', DISTRIBUTOR='20th Century Fox', TOTAL FOR YEAR='$306,169,255', TOTAL IN 2019 DOLLARS='$634,504,608', TICKETS SOLD='6,92,69,062'),\n",
       " Row(YEAR=1997, MOVIE='Men in Black', GENRE='Adventure', MPAA RATING='PG-13', DISTRIBUTOR='Sony Pictures', TOTAL FOR YEAR='$250,650,052', TOTAL IN 2019 DOLLARS='$500,207,943', TICKETS SOLD='5,46,07,854')]"
      ]
     },
     "execution_count": 12,
     "metadata": {},
     "output_type": "execute_result"
    }
   ],
   "source": [
    "df_pyspark.head(3)"
   ]
  },
  {
   "cell_type": "code",
   "execution_count": 13,
   "id": "8ca93d76-d777-4e58-b1a8-4e326ee517a8",
   "metadata": {},
   "outputs": [
    {
     "name": "stdout",
     "output_type": "stream",
     "text": [
      "root\n",
      " |-- YEAR: integer (nullable = true)\n",
      " |-- MOVIE: string (nullable = true)\n",
      " |-- GENRE: string (nullable = true)\n",
      " |-- MPAA RATING: string (nullable = true)\n",
      " |-- DISTRIBUTOR: string (nullable = true)\n",
      " |-- TOTAL FOR YEAR: string (nullable = true)\n",
      " |-- TOTAL IN 2019 DOLLARS: string (nullable = true)\n",
      " |-- TICKETS SOLD: string (nullable = true)\n",
      "\n"
     ]
    }
   ],
   "source": [
    "df_pyspark.printSchema()"
   ]
  },
  {
   "cell_type": "markdown",
   "id": "02fb7105-1abc-4a84-b040-5d62e872fcdb",
   "metadata": {},
   "source": [
    "---"
   ]
  },
  {
   "cell_type": "code",
   "execution_count": 14,
   "id": "cecad9ea-9232-4940-8ec5-bbe68bfcb401",
   "metadata": {},
   "outputs": [
    {
     "data": {
      "text/plain": [
       "Column<'TICKETS SOLD'>"
      ]
     },
     "execution_count": 14,
     "metadata": {},
     "output_type": "execute_result"
    }
   ],
   "source": [
    "df_pyspark['TICKETS SOLD']"
   ]
  },
  {
   "cell_type": "code",
   "execution_count": 15,
   "id": "26d7e067-18fd-430b-839d-dc5095be095b",
   "metadata": {},
   "outputs": [
    {
     "name": "stdout",
     "output_type": "stream",
     "text": [
      "+----+----------------+---------+-----------+----------------+--------------+---------------------+------------+\n",
      "|YEAR|           MOVIE|    GENRE|MPAA RATING|     DISTRIBUTOR|TOTAL FOR YEAR|TOTAL IN 2019 DOLLARS|TICKETS SOLD|\n",
      "+----+----------------+---------+-----------+----------------+--------------+---------------------+------------+\n",
      "|1995|  Batman Forever|    Drama|      PG-13|    Warner Bros.|     184031112|            387522978|    42306002|\n",
      "|1996|Independence Day|Adventure|      PG-13|20th Century Fox|     306169255|            634504608|    69269062|\n",
      "|1997|    Men in Black|Adventure|      PG-13|   Sony Pictures|     250650052|            500207943|    54607854|\n",
      "+----+----------------+---------+-----------+----------------+--------------+---------------------+------------+\n",
      "only showing top 3 rows\n",
      "\n"
     ]
    }
   ],
   "source": [
    "from pyspark.sql.functions import udf, col\n",
    "import re\n",
    "\n",
    "commaRep = udf(lambda x: re.sub(',|\\$','', x))\n",
    "df_pyspark=df_pyspark.withColumn('TICKETS SOLD',commaRep('TICKETS SOLD'))\n",
    "df_pyspark=df_pyspark.withColumn('TOTAL FOR YEAR',commaRep('TOTAL FOR YEAR'))\n",
    "df_pyspark=df_pyspark.withColumn('TOTAL IN 2019 DOLLARS',commaRep('TOTAL IN 2019 DOLLARS'))\n",
    "df_pyspark=df_pyspark.withColumn('TICKETS SOLD',col('TICKETS SOLD').cast(\"Integer\"))\n",
    "df_pyspark=df_pyspark.withColumn('TOTAL FOR YEAR',col('TOTAL FOR YEAR').cast(\"Integer\"))\n",
    "df_pyspark=df_pyspark.withColumn('TOTAL IN 2019 DOLLARS',col('TOTAL IN 2019 DOLLARS').cast(\"Integer\"))\n",
    "\n",
    "df_pyspark.show(3)\n"
   ]
  },
  {
   "cell_type": "code",
   "execution_count": 16,
   "id": "66eb9f0f-9252-4257-9cca-6303be8f313f",
   "metadata": {},
   "outputs": [
    {
     "name": "stdout",
     "output_type": "stream",
     "text": [
      "root\n",
      " |-- YEAR: integer (nullable = true)\n",
      " |-- MOVIE: string (nullable = true)\n",
      " |-- GENRE: string (nullable = true)\n",
      " |-- MPAA RATING: string (nullable = true)\n",
      " |-- DISTRIBUTOR: string (nullable = true)\n",
      " |-- TOTAL FOR YEAR: integer (nullable = true)\n",
      " |-- TOTAL IN 2019 DOLLARS: integer (nullable = true)\n",
      " |-- TICKETS SOLD: integer (nullable = true)\n",
      "\n"
     ]
    }
   ],
   "source": [
    "df_pyspark.printSchema()"
   ]
  },
  {
   "cell_type": "code",
   "execution_count": 17,
   "id": "d763db15-4027-458f-b51c-7b1416c653b7",
   "metadata": {},
   "outputs": [
    {
     "data": {
      "text/plain": [
       "['YEAR',\n",
       " 'MOVIE',\n",
       " 'GENRE',\n",
       " 'MPAA RATING',\n",
       " 'DISTRIBUTOR',\n",
       " 'TOTAL FOR YEAR',\n",
       " 'TOTAL IN 2019 DOLLARS',\n",
       " 'TICKETS SOLD']"
      ]
     },
     "execution_count": 17,
     "metadata": {},
     "output_type": "execute_result"
    }
   ],
   "source": [
    "df_pyspark.columns"
   ]
  },
  {
   "cell_type": "code",
   "execution_count": 18,
   "id": "3251c353-2323-4a8b-97b9-d709591727d8",
   "metadata": {},
   "outputs": [
    {
     "data": {
      "text/plain": [
       "[Row(YEAR=1995, MOVIE='Batman Forever', GENRE='Drama', MPAA RATING='PG-13', DISTRIBUTOR='Warner Bros.', TOTAL FOR YEAR=184031112, TOTAL IN 2019 DOLLARS=387522978, TICKETS SOLD=42306002),\n",
       " Row(YEAR=1996, MOVIE='Independence Day', GENRE='Adventure', MPAA RATING='PG-13', DISTRIBUTOR='20th Century Fox', TOTAL FOR YEAR=306169255, TOTAL IN 2019 DOLLARS=634504608, TICKETS SOLD=69269062),\n",
       " Row(YEAR=1997, MOVIE='Men in Black', GENRE='Adventure', MPAA RATING='PG-13', DISTRIBUTOR='Sony Pictures', TOTAL FOR YEAR=250650052, TOTAL IN 2019 DOLLARS=500207943, TICKETS SOLD=54607854)]"
      ]
     },
     "execution_count": 18,
     "metadata": {},
     "output_type": "execute_result"
    }
   ],
   "source": [
    "df_pyspark.head(3)"
   ]
  },
  {
   "cell_type": "code",
   "execution_count": 19,
   "id": "6068b130-58fe-4468-8ecf-7798c88684cb",
   "metadata": {},
   "outputs": [
    {
     "name": "stdout",
     "output_type": "stream",
     "text": [
      "+------------+\n",
      "|TICKETS SOLD|\n",
      "+------------+\n",
      "|    42306002|\n",
      "|    69269062|\n",
      "|    54607854|\n",
      "|    94524324|\n",
      "|    84732942|\n",
      "|    47006948|\n",
      "|    53074988|\n",
      "|    69484746|\n",
      "|    56337374|\n",
      "|    71050925|\n",
      "|    59324582|\n",
      "|    64628368|\n",
      "|    48914288|\n",
      "|    73955652|\n",
      "|    53614916|\n",
      "|    52598844|\n",
      "|    48046812|\n",
      "|    78311295|\n",
      "|    50306552|\n",
      "|    40765637|\n",
      "+------------+\n",
      "only showing top 20 rows\n",
      "\n"
     ]
    }
   ],
   "source": [
    "# Selecting a column\n",
    "df_pyspark.select(\"TICKETS SOLD\").show()"
   ]
  },
  {
   "cell_type": "code",
   "execution_count": 20,
   "id": "2fc6bbd1-479e-4456-8bac-382cf1f04b47",
   "metadata": {},
   "outputs": [
    {
     "name": "stdout",
     "output_type": "stream",
     "text": [
      "+--------------------+------------+\n",
      "|               MOVIE|TICKETS SOLD|\n",
      "+--------------------+------------+\n",
      "|      Batman Forever|    42306002|\n",
      "|    Independence Day|    69269062|\n",
      "|        Men in Black|    54607854|\n",
      "|             Titanic|    94524324|\n",
      "|Star Wars Ep. I: ...|    84732942|\n",
      "|How the Grinch St...|    47006948|\n",
      "|Harry Potter and ...|    53074988|\n",
      "|          Spider-Man|    69484746|\n",
      "|        Finding Nemo|    56337374|\n",
      "|             Shrek 2|    71050925|\n",
      "|Star Wars Ep. III...|    59324582|\n",
      "|Pirates of the Ca...|    64628368|\n",
      "|        Spider-Man 3|    48914288|\n",
      "|     The Dark Knight|    73955652|\n",
      "|Transformers: Rev...|    53614916|\n",
      "|         Toy Story 3|    52598844|\n",
      "|Harry Potter and ...|    48046812|\n",
      "|        The Avengers|    78311295|\n",
      "|          Iron Man 3|    50306552|\n",
      "|Guardians of the ...|    40765637|\n",
      "+--------------------+------------+\n",
      "only showing top 20 rows\n",
      "\n"
     ]
    }
   ],
   "source": [
    "# Selecting columns\n",
    "df_pyspark.select([\"MOVIE\", \"TICKETS SOLD\"]).show()"
   ]
  },
  {
   "cell_type": "code",
   "execution_count": 21,
   "id": "75334c0b-49bb-4688-bc53-296645f8fe58",
   "metadata": {},
   "outputs": [
    {
     "name": "stdout",
     "output_type": "stream",
     "text": [
      "+-------+-----------------+--------------------+------+-----------+----------------+--------------------+---------------------+--------------------+\n",
      "|summary|             YEAR|               MOVIE| GENRE|MPAA RATING|     DISTRIBUTOR|      TOTAL FOR YEAR|TOTAL IN 2019 DOLLARS|        TICKETS SOLD|\n",
      "+-------+-----------------+--------------------+------+-----------+----------------+--------------------+---------------------+--------------------+\n",
      "|  count|               27|                  27|    24|         27|              27|                  27|                   27|                  27|\n",
      "|   mean|           2008.0|                null|  null|       null|            null| 4.192771630740741E8|  5.537169798888888E8|6.0449451925925925E7|\n",
      "| stddev|7.937253933193772|                null|  null|       null|            null|1.6314675402082297E8|  1.699856367346755E8|1.8557383982576847E7|\n",
      "|    min|             1995|   Avengers: Endgame|Action|          G|20th Century Fox|           184031112|            204417848|            22316359|\n",
      "|    max|             2021|Transformers: Rev...| Drama|          R|    Warner Bros.|           858373000|            865842808|            94524324|\n",
      "+-------+-----------------+--------------------+------+-----------+----------------+--------------------+---------------------+--------------------+\n",
      "\n"
     ]
    }
   ],
   "source": [
    "# Similar to pandas describe func\n",
    "df_pyspark.describe().show()"
   ]
  },
  {
   "cell_type": "code",
   "execution_count": 22,
   "id": "10c6cfa9-fdae-440d-8a49-822a4e90ccf8",
   "metadata": {},
   "outputs": [
    {
     "name": "stdout",
     "output_type": "stream",
     "text": [
      "+----+--------------------+---------+-----------+------------------+--------------+---------------------+------------+\n",
      "|YEAR|               MOVIE|    GENRE|MPAA RATING|       DISTRIBUTOR|TOTAL FOR YEAR|TOTAL IN 2019 DOLLARS|TICKETS SOLD|\n",
      "+----+--------------------+---------+-----------+------------------+--------------+---------------------+------------+\n",
      "|1995|      Batman Forever|    Drama|      PG-13|      Warner Bros.|     184031112|            387522978|    42306002|\n",
      "|1996|    Independence Day|Adventure|      PG-13|  20th Century Fox|     306169255|            634504608|    69269062|\n",
      "|1997|        Men in Black|Adventure|      PG-13|     Sony Pictures|     250650052|            500207943|    54607854|\n",
      "|1998|             Titanic|Adventure|      PG-13|Paramount Pictures|     443319081|            865842808|    94524324|\n",
      "|1999|Star Wars Ep. I: ...|Adventure|         PG|  20th Century Fox|     430443350|            776153749|    84732942|\n",
      "|2000|How the Grinch St...|Adventure|         PG|         Universal|     253367455|            430583644|    47006948|\n",
      "|2001|Harry Potter and ...|Adventure|         PG|      Warner Bros.|     300404434|            486166890|    53074988|\n",
      "|2002|          Spider-Man|Adventure|      PG-13|     Sony Pictures|     403706375|            636480273|    69484746|\n",
      "|2003|        Finding Nemo|Adventure|          G|       Walt Disney|     339714367|            516050346|    56337374|\n",
      "|2004|             Shrek 2|Adventure|         PG|    Dreamworks SKG|     441226247|            650826473|    71050925|\n",
      "|2005|Star Wars Ep. III...|   Action|      PG-13|  20th Century Fox|     380270577|            543413171|    59324582|\n",
      "|2006|Pirates of the Ca...|   Action|      PG-13|       Walt Disney|     423315812|            591995851|    64628368|\n",
      "|2007|        Spider-Man 3|Adventure|      PG-13|     Sony Pictures|     336530303|            448054878|    48914288|\n",
      "|2008|     The Dark Knight|Adventure|      PG-13|      Warner Bros.|     531001578|            677433772|    73955652|\n",
      "|2009|Transformers: Rev...|   Action|      PG-13|Paramount Pictures|     402111870|            491112631|    53614916|\n",
      "|2010|         Toy Story 3|   Action|          G|       Walt Disney|     415004880|            481805411|    52598844|\n",
      "|2011|Harry Potter and ...|   Action|      PG-13|      Warner Bros.|     381011219|            440108798|    48046812|\n",
      "|2012|        The Avengers|Adventure|      PG-13|       Walt Disney|     623357910|            717331462|    78311295|\n",
      "|2013|          Iron Man 3|Adventure|      PG-13|       Walt Disney|     408992272|            460808016|    50306552|\n",
      "|2014|Guardians of the ...|Adventure|      PG-13|       Walt Disney|     333055258|            373413235|    40765637|\n",
      "+----+--------------------+---------+-----------+------------------+--------------+---------------------+------------+\n",
      "only showing top 20 rows\n",
      "\n"
     ]
    }
   ],
   "source": [
    "df_pyspark.show()"
   ]
  },
  {
   "cell_type": "code",
   "execution_count": 23,
   "id": "1f18cd33-3089-4e0a-9a6b-4d1b427ca829",
   "metadata": {},
   "outputs": [],
   "source": [
    "# Adding Columns in data frame\n",
    "df_pyspark = df_pyspark.withColumn('TEST', df_pyspark[\"TICKETS SOLD\"]*2)"
   ]
  },
  {
   "cell_type": "code",
   "execution_count": 24,
   "id": "6873a5b0-60fc-44c3-a14b-b343645fa14e",
   "metadata": {},
   "outputs": [
    {
     "name": "stdout",
     "output_type": "stream",
     "text": [
      "+----+--------------------+---------+-----------+------------------+--------------+---------------------+------------+---------+\n",
      "|YEAR|               MOVIE|    GENRE|MPAA RATING|       DISTRIBUTOR|TOTAL FOR YEAR|TOTAL IN 2019 DOLLARS|TICKETS SOLD|     TEST|\n",
      "+----+--------------------+---------+-----------+------------------+--------------+---------------------+------------+---------+\n",
      "|1995|      Batman Forever|    Drama|      PG-13|      Warner Bros.|     184031112|            387522978|    42306002| 84612004|\n",
      "|1996|    Independence Day|Adventure|      PG-13|  20th Century Fox|     306169255|            634504608|    69269062|138538124|\n",
      "|1997|        Men in Black|Adventure|      PG-13|     Sony Pictures|     250650052|            500207943|    54607854|109215708|\n",
      "|1998|             Titanic|Adventure|      PG-13|Paramount Pictures|     443319081|            865842808|    94524324|189048648|\n",
      "|1999|Star Wars Ep. I: ...|Adventure|         PG|  20th Century Fox|     430443350|            776153749|    84732942|169465884|\n",
      "|2000|How the Grinch St...|Adventure|         PG|         Universal|     253367455|            430583644|    47006948| 94013896|\n",
      "|2001|Harry Potter and ...|Adventure|         PG|      Warner Bros.|     300404434|            486166890|    53074988|106149976|\n",
      "|2002|          Spider-Man|Adventure|      PG-13|     Sony Pictures|     403706375|            636480273|    69484746|138969492|\n",
      "|2003|        Finding Nemo|Adventure|          G|       Walt Disney|     339714367|            516050346|    56337374|112674748|\n",
      "|2004|             Shrek 2|Adventure|         PG|    Dreamworks SKG|     441226247|            650826473|    71050925|142101850|\n",
      "|2005|Star Wars Ep. III...|   Action|      PG-13|  20th Century Fox|     380270577|            543413171|    59324582|118649164|\n",
      "|2006|Pirates of the Ca...|   Action|      PG-13|       Walt Disney|     423315812|            591995851|    64628368|129256736|\n",
      "|2007|        Spider-Man 3|Adventure|      PG-13|     Sony Pictures|     336530303|            448054878|    48914288| 97828576|\n",
      "|2008|     The Dark Knight|Adventure|      PG-13|      Warner Bros.|     531001578|            677433772|    73955652|147911304|\n",
      "|2009|Transformers: Rev...|   Action|      PG-13|Paramount Pictures|     402111870|            491112631|    53614916|107229832|\n",
      "|2010|         Toy Story 3|   Action|          G|       Walt Disney|     415004880|            481805411|    52598844|105197688|\n",
      "|2011|Harry Potter and ...|   Action|      PG-13|      Warner Bros.|     381011219|            440108798|    48046812| 96093624|\n",
      "|2012|        The Avengers|Adventure|      PG-13|       Walt Disney|     623357910|            717331462|    78311295|156622590|\n",
      "|2013|          Iron Man 3|Adventure|      PG-13|       Walt Disney|     408992272|            460808016|    50306552|100613104|\n",
      "|2014|Guardians of the ...|Adventure|      PG-13|       Walt Disney|     333055258|            373413235|    40765637| 81531274|\n",
      "+----+--------------------+---------+-----------+------------------+--------------+---------------------+------------+---------+\n",
      "only showing top 20 rows\n",
      "\n"
     ]
    }
   ],
   "source": [
    "df_pyspark.show()"
   ]
  },
  {
   "cell_type": "code",
   "execution_count": 25,
   "id": "1a142fca-029b-4208-8159-de08acd93b6c",
   "metadata": {},
   "outputs": [],
   "source": [
    "# Drop column\n",
    "df_pyspark = df_pyspark.drop(\"TEST\")"
   ]
  },
  {
   "cell_type": "code",
   "execution_count": 26,
   "id": "88d653a1-4fc3-477b-a434-9b04d803dd63",
   "metadata": {},
   "outputs": [
    {
     "name": "stdout",
     "output_type": "stream",
     "text": [
      "+----+--------------------+---------+-----------+------------------+--------------+---------------------+------------+\n",
      "|YEAR|               MOVIE|    GENRE|MPAA RATING|       DISTRIBUTOR|TOTAL FOR YEAR|TOTAL IN 2019 DOLLARS|TICKETS SOLD|\n",
      "+----+--------------------+---------+-----------+------------------+--------------+---------------------+------------+\n",
      "|1995|      Batman Forever|    Drama|      PG-13|      Warner Bros.|     184031112|            387522978|    42306002|\n",
      "|1996|    Independence Day|Adventure|      PG-13|  20th Century Fox|     306169255|            634504608|    69269062|\n",
      "|1997|        Men in Black|Adventure|      PG-13|     Sony Pictures|     250650052|            500207943|    54607854|\n",
      "|1998|             Titanic|Adventure|      PG-13|Paramount Pictures|     443319081|            865842808|    94524324|\n",
      "|1999|Star Wars Ep. I: ...|Adventure|         PG|  20th Century Fox|     430443350|            776153749|    84732942|\n",
      "|2000|How the Grinch St...|Adventure|         PG|         Universal|     253367455|            430583644|    47006948|\n",
      "|2001|Harry Potter and ...|Adventure|         PG|      Warner Bros.|     300404434|            486166890|    53074988|\n",
      "|2002|          Spider-Man|Adventure|      PG-13|     Sony Pictures|     403706375|            636480273|    69484746|\n",
      "|2003|        Finding Nemo|Adventure|          G|       Walt Disney|     339714367|            516050346|    56337374|\n",
      "|2004|             Shrek 2|Adventure|         PG|    Dreamworks SKG|     441226247|            650826473|    71050925|\n",
      "|2005|Star Wars Ep. III...|   Action|      PG-13|  20th Century Fox|     380270577|            543413171|    59324582|\n",
      "|2006|Pirates of the Ca...|   Action|      PG-13|       Walt Disney|     423315812|            591995851|    64628368|\n",
      "|2007|        Spider-Man 3|Adventure|      PG-13|     Sony Pictures|     336530303|            448054878|    48914288|\n",
      "|2008|     The Dark Knight|Adventure|      PG-13|      Warner Bros.|     531001578|            677433772|    73955652|\n",
      "|2009|Transformers: Rev...|   Action|      PG-13|Paramount Pictures|     402111870|            491112631|    53614916|\n",
      "|2010|         Toy Story 3|   Action|          G|       Walt Disney|     415004880|            481805411|    52598844|\n",
      "|2011|Harry Potter and ...|   Action|      PG-13|      Warner Bros.|     381011219|            440108798|    48046812|\n",
      "|2012|        The Avengers|Adventure|      PG-13|       Walt Disney|     623357910|            717331462|    78311295|\n",
      "|2013|          Iron Man 3|Adventure|      PG-13|       Walt Disney|     408992272|            460808016|    50306552|\n",
      "|2014|Guardians of the ...|Adventure|      PG-13|       Walt Disney|     333055258|            373413235|    40765637|\n",
      "+----+--------------------+---------+-----------+------------------+--------------+---------------------+------------+\n",
      "only showing top 20 rows\n",
      "\n"
     ]
    }
   ],
   "source": [
    "df_pyspark.show()"
   ]
  },
  {
   "cell_type": "code",
   "execution_count": 27,
   "id": "8bcd2a7f-253d-4091-a5d5-c8f07c546713",
   "metadata": {},
   "outputs": [
    {
     "name": "stdout",
     "output_type": "stream",
     "text": [
      "+----+--------------------+---------+-----------+------------------+--------------+---------------------+------------+\n",
      "|YEAR|         MOVIE TITLE|    GENRE|MPAA RATING|       DISTRIBUTOR|TOTAL FOR YEAR|TOTAL IN 2019 DOLLARS|TICKETS SOLD|\n",
      "+----+--------------------+---------+-----------+------------------+--------------+---------------------+------------+\n",
      "|1995|      Batman Forever|    Drama|      PG-13|      Warner Bros.|     184031112|            387522978|    42306002|\n",
      "|1996|    Independence Day|Adventure|      PG-13|  20th Century Fox|     306169255|            634504608|    69269062|\n",
      "|1997|        Men in Black|Adventure|      PG-13|     Sony Pictures|     250650052|            500207943|    54607854|\n",
      "|1998|             Titanic|Adventure|      PG-13|Paramount Pictures|     443319081|            865842808|    94524324|\n",
      "|1999|Star Wars Ep. I: ...|Adventure|         PG|  20th Century Fox|     430443350|            776153749|    84732942|\n",
      "|2000|How the Grinch St...|Adventure|         PG|         Universal|     253367455|            430583644|    47006948|\n",
      "|2001|Harry Potter and ...|Adventure|         PG|      Warner Bros.|     300404434|            486166890|    53074988|\n",
      "|2002|          Spider-Man|Adventure|      PG-13|     Sony Pictures|     403706375|            636480273|    69484746|\n",
      "|2003|        Finding Nemo|Adventure|          G|       Walt Disney|     339714367|            516050346|    56337374|\n",
      "|2004|             Shrek 2|Adventure|         PG|    Dreamworks SKG|     441226247|            650826473|    71050925|\n",
      "|2005|Star Wars Ep. III...|   Action|      PG-13|  20th Century Fox|     380270577|            543413171|    59324582|\n",
      "|2006|Pirates of the Ca...|   Action|      PG-13|       Walt Disney|     423315812|            591995851|    64628368|\n",
      "|2007|        Spider-Man 3|Adventure|      PG-13|     Sony Pictures|     336530303|            448054878|    48914288|\n",
      "|2008|     The Dark Knight|Adventure|      PG-13|      Warner Bros.|     531001578|            677433772|    73955652|\n",
      "|2009|Transformers: Rev...|   Action|      PG-13|Paramount Pictures|     402111870|            491112631|    53614916|\n",
      "|2010|         Toy Story 3|   Action|          G|       Walt Disney|     415004880|            481805411|    52598844|\n",
      "|2011|Harry Potter and ...|   Action|      PG-13|      Warner Bros.|     381011219|            440108798|    48046812|\n",
      "|2012|        The Avengers|Adventure|      PG-13|       Walt Disney|     623357910|            717331462|    78311295|\n",
      "|2013|          Iron Man 3|Adventure|      PG-13|       Walt Disney|     408992272|            460808016|    50306552|\n",
      "|2014|Guardians of the ...|Adventure|      PG-13|       Walt Disney|     333055258|            373413235|    40765637|\n",
      "+----+--------------------+---------+-----------+------------------+--------------+---------------------+------------+\n",
      "only showing top 20 rows\n",
      "\n"
     ]
    }
   ],
   "source": [
    "# Rename the columns\n",
    "df_pyspark.withColumnRenamed('MOVIE', 'MOVIE TITLE').show()"
   ]
  },
  {
   "cell_type": "markdown",
   "id": "4e97e45c-1e60-4afd-8964-c839062491d1",
   "metadata": {},
   "source": [
    "## Pyspark Handling Missing Values"
   ]
  },
  {
   "cell_type": "code",
   "execution_count": 278,
   "id": "8cfb91b6-1765-49ad-a6ef-2f67f21d1f7b",
   "metadata": {},
   "outputs": [],
   "source": [
    "missing_val_df= spark.read.option(\"header\", \"true\").csv(\"archive/MissingValues.csv\", inferSchema=True)"
   ]
  },
  {
   "cell_type": "code",
   "execution_count": 279,
   "id": "decf2791-4c18-4255-86a6-a44906fbdc60",
   "metadata": {},
   "outputs": [
    {
     "name": "stdout",
     "output_type": "stream",
     "text": [
      "+----+--------------+----------------+-----------------------------------+--------------------+\n",
      "|YEAR|  TICKETS SOLD|TOTAL BOX OFFICE|TOTAL INFLATION ADJUSTED BOX OFFICE|AVERAGE TICKET PRICE|\n",
      "+----+--------------+----------------+-----------------------------------+--------------------+\n",
      "|2021|  42,37,74,881|  $3,881,777,912|                     $3,881,777,912|               $9.16|\n",
      "|2020|  22,36,38,958|  $2,048,534,616|                     $2,048,534,616|               $9.16|\n",
      "|2019|1,22,85,41,629| $11,253,443,955|                    $11,253,444,050|               $9.16|\n",
      "|2018|1,31,15,36,128| $11,948,096,650|                    $12,013,670,952|               $9.11|\n",
      "|2017|1,22,56,39,761| $10,993,991,460|                    $11,226,860,216|               $8.97|\n",
      "|2016|1,30,25,56,378| $11,267,115,924|                    $11,931,416,424|               $8.65|\n",
      "|2015|1,32,33,56,776| $11,155,900,636|                    $12,121,948,075|               $8.43|\n",
      "|2014|1,25,74,02,920| $10,272,985,008|                    $11,517,810,744|               $8.17|\n",
      "|2013|1,33,91,68,926| $10,887,446,341|                    $12,266,787,382|               $8.13|\n",
      "|2012|1,38,09,21,942| $10,992,141,616|                    $12,649,244,986|               $7.96|\n",
      "|2011|1,28,29,15,168| $10,173,519,704|                    $11,751,502,955|               $7.93|\n",
      "|2010|1,32,85,49,021| $10,482,254,025|                    $12,169,509,032|               $7.89|\n",
      "|2009|1,41,85,67,388| $10,639,257,284|                    $12,994,051,137|               $7.50|\n",
      "|2008|1,35,80,42,073|  $9,750,744,148|                    $12,439,665,380|               $7.18|\n",
      "|2007|1,42,00,36,680|  $9,769,854,914|                    $13,007,535,993|               $6.88|\n",
      "|2006|1,39,87,38,283|  $9,161,738,221|                    $12,812,442,671|               $6.55|\n",
      "|2005|          null|  $8,800,805,718|                    $12,576,499,367|               $6.41|\n",
      "|null|1,49,56,51,298|  $9,287,996,519|                    $13,700,165,883|               $6.21|\n",
      "|2003|1,52,45,89,620|  $9,193,277,289|                               null|               $6.03|\n",
      "|2002|1,57,57,56,527|  $9,155,147,215|                    $14,433,929,789|               $5.81|\n",
      "+----+--------------+----------------+-----------------------------------+--------------------+\n",
      "only showing top 20 rows\n",
      "\n"
     ]
    }
   ],
   "source": [
    "missing_val_df.show()"
   ]
  },
  {
   "cell_type": "code",
   "execution_count": 280,
   "id": "0237efda-ef21-42d0-ae4a-7fddcdee7fc7",
   "metadata": {},
   "outputs": [
    {
     "name": "stdout",
     "output_type": "stream",
     "text": [
      "+----+--------------+----------------+-----------------------------------+\n",
      "|YEAR|  TICKETS SOLD|TOTAL BOX OFFICE|TOTAL INFLATION ADJUSTED BOX OFFICE|\n",
      "+----+--------------+----------------+-----------------------------------+\n",
      "|2021|  42,37,74,881|  $3,881,777,912|                     $3,881,777,912|\n",
      "|2020|  22,36,38,958|  $2,048,534,616|                     $2,048,534,616|\n",
      "|2019|1,22,85,41,629| $11,253,443,955|                    $11,253,444,050|\n",
      "|2018|1,31,15,36,128| $11,948,096,650|                    $12,013,670,952|\n",
      "|2017|1,22,56,39,761| $10,993,991,460|                    $11,226,860,216|\n",
      "|2016|1,30,25,56,378| $11,267,115,924|                    $11,931,416,424|\n",
      "|2015|1,32,33,56,776| $11,155,900,636|                    $12,121,948,075|\n",
      "|2014|1,25,74,02,920| $10,272,985,008|                    $11,517,810,744|\n",
      "|2013|1,33,91,68,926| $10,887,446,341|                    $12,266,787,382|\n",
      "|2012|1,38,09,21,942| $10,992,141,616|                    $12,649,244,986|\n",
      "|2011|1,28,29,15,168| $10,173,519,704|                    $11,751,502,955|\n",
      "|2010|1,32,85,49,021| $10,482,254,025|                    $12,169,509,032|\n",
      "|2009|1,41,85,67,388| $10,639,257,284|                    $12,994,051,137|\n",
      "|2008|1,35,80,42,073|  $9,750,744,148|                    $12,439,665,380|\n",
      "|2007|1,42,00,36,680|  $9,769,854,914|                    $13,007,535,993|\n",
      "|2006|1,39,87,38,283|  $9,161,738,221|                    $12,812,442,671|\n",
      "|2005|          null|  $8,800,805,718|                    $12,576,499,367|\n",
      "|null|1,49,56,51,298|  $9,287,996,519|                    $13,700,165,883|\n",
      "|2003|1,52,45,89,620|  $9,193,277,289|                               null|\n",
      "|2002|1,57,57,56,527|  $9,155,147,215|                    $14,433,929,789|\n",
      "+----+--------------+----------------+-----------------------------------+\n",
      "only showing top 20 rows\n",
      "\n"
     ]
    }
   ],
   "source": [
    "## drop columns\n",
    "missing_val_df.drop('AVERAGE TICKET PRICE').show()"
   ]
  },
  {
   "cell_type": "code",
   "execution_count": 281,
   "id": "37c9113a-5144-43c1-a1cd-711823dd0010",
   "metadata": {},
   "outputs": [
    {
     "name": "stdout",
     "output_type": "stream",
     "text": [
      "+----+--------------+----------------+-----------------------------------+--------------------+\n",
      "|YEAR|  TICKETS SOLD|TOTAL BOX OFFICE|TOTAL INFLATION ADJUSTED BOX OFFICE|AVERAGE TICKET PRICE|\n",
      "+----+--------------+----------------+-----------------------------------+--------------------+\n",
      "|2021|  42,37,74,881|  $3,881,777,912|                     $3,881,777,912|               $9.16|\n",
      "|2020|  22,36,38,958|  $2,048,534,616|                     $2,048,534,616|               $9.16|\n",
      "|2019|1,22,85,41,629| $11,253,443,955|                    $11,253,444,050|               $9.16|\n",
      "|2018|1,31,15,36,128| $11,948,096,650|                    $12,013,670,952|               $9.11|\n",
      "|2017|1,22,56,39,761| $10,993,991,460|                    $11,226,860,216|               $8.97|\n",
      "|2016|1,30,25,56,378| $11,267,115,924|                    $11,931,416,424|               $8.65|\n",
      "|2015|1,32,33,56,776| $11,155,900,636|                    $12,121,948,075|               $8.43|\n",
      "|2014|1,25,74,02,920| $10,272,985,008|                    $11,517,810,744|               $8.17|\n",
      "|2013|1,33,91,68,926| $10,887,446,341|                    $12,266,787,382|               $8.13|\n",
      "|2012|1,38,09,21,942| $10,992,141,616|                    $12,649,244,986|               $7.96|\n",
      "|2011|1,28,29,15,168| $10,173,519,704|                    $11,751,502,955|               $7.93|\n",
      "|2010|1,32,85,49,021| $10,482,254,025|                    $12,169,509,032|               $7.89|\n",
      "|2009|1,41,85,67,388| $10,639,257,284|                    $12,994,051,137|               $7.50|\n",
      "|2008|1,35,80,42,073|  $9,750,744,148|                    $12,439,665,380|               $7.18|\n",
      "|2007|1,42,00,36,680|  $9,769,854,914|                    $13,007,535,993|               $6.88|\n",
      "|2006|1,39,87,38,283|  $9,161,738,221|                    $12,812,442,671|               $6.55|\n",
      "|2002|1,57,57,56,527|  $9,155,147,215|                    $14,433,929,789|               $5.81|\n",
      "|2000|1,39,74,60,079|  $7,532,311,479|                    $12,800,734,319|               $5.39|\n",
      "|1999|1,44,46,64,086|  $7,338,894,852|                    $13,233,123,027|               $5.08|\n",
      "|1998|1,44,38,32,471|  $6,771,575,283|                    $13,225,505,439|               $4.69|\n",
      "+----+--------------+----------------+-----------------------------------+--------------------+\n",
      "only showing top 20 rows\n",
      "\n"
     ]
    }
   ],
   "source": [
    "missing_val_df.na.drop().show()"
   ]
  },
  {
   "cell_type": "code",
   "execution_count": 282,
   "id": "29960232-1baf-4b78-b68c-c412e417c69b",
   "metadata": {},
   "outputs": [],
   "source": [
    "# Attach function to pyspark\n",
    "def spark_shape(self):\n",
    "    return (self.count(), len(self.columns))\n",
    "pyspark.sql.dataframe.DataFrame.shape = spark_shape"
   ]
  },
  {
   "cell_type": "code",
   "execution_count": 283,
   "id": "a9f708d5-f503-4c98-862f-0174b18546e2",
   "metadata": {},
   "outputs": [
    {
     "data": {
      "text/plain": [
       "(27, 5)"
      ]
     },
     "execution_count": 283,
     "metadata": {},
     "output_type": "execute_result"
    }
   ],
   "source": [
    "missing_val_df.shape()"
   ]
  },
  {
   "cell_type": "code",
   "execution_count": 284,
   "id": "e5ad3c07-0bc8-4dc0-b8d6-0cc0ca4f20b5",
   "metadata": {},
   "outputs": [
    {
     "data": {
      "text/plain": [
       "27"
      ]
     },
     "execution_count": 284,
     "metadata": {},
     "output_type": "execute_result"
    }
   ],
   "source": [
    "missing_val_df.count()"
   ]
  },
  {
   "cell_type": "code",
   "execution_count": 285,
   "id": "839dc543-568c-4094-adf6-0c26bb533a97",
   "metadata": {},
   "outputs": [
    {
     "name": "stdout",
     "output_type": "stream",
     "text": [
      "+----+--------------+----------------+-----------------------------------+--------------------+\n",
      "|YEAR|  TICKETS SOLD|TOTAL BOX OFFICE|TOTAL INFLATION ADJUSTED BOX OFFICE|AVERAGE TICKET PRICE|\n",
      "+----+--------------+----------------+-----------------------------------+--------------------+\n",
      "|2021|  42,37,74,881|  $3,881,777,912|                     $3,881,777,912|               $9.16|\n",
      "|2020|  22,36,38,958|  $2,048,534,616|                     $2,048,534,616|               $9.16|\n",
      "|2019|1,22,85,41,629| $11,253,443,955|                    $11,253,444,050|               $9.16|\n",
      "|2018|1,31,15,36,128| $11,948,096,650|                    $12,013,670,952|               $9.11|\n",
      "|2017|1,22,56,39,761| $10,993,991,460|                    $11,226,860,216|               $8.97|\n",
      "|2016|1,30,25,56,378| $11,267,115,924|                    $11,931,416,424|               $8.65|\n",
      "|2015|1,32,33,56,776| $11,155,900,636|                    $12,121,948,075|               $8.43|\n",
      "|2014|1,25,74,02,920| $10,272,985,008|                    $11,517,810,744|               $8.17|\n",
      "|2013|1,33,91,68,926| $10,887,446,341|                    $12,266,787,382|               $8.13|\n",
      "|2012|1,38,09,21,942| $10,992,141,616|                    $12,649,244,986|               $7.96|\n",
      "|2011|1,28,29,15,168| $10,173,519,704|                    $11,751,502,955|               $7.93|\n",
      "|2010|1,32,85,49,021| $10,482,254,025|                    $12,169,509,032|               $7.89|\n",
      "|2009|1,41,85,67,388| $10,639,257,284|                    $12,994,051,137|               $7.50|\n",
      "|2008|1,35,80,42,073|  $9,750,744,148|                    $12,439,665,380|               $7.18|\n",
      "|2007|1,42,00,36,680|  $9,769,854,914|                    $13,007,535,993|               $6.88|\n",
      "|2006|1,39,87,38,283|  $9,161,738,221|                    $12,812,442,671|               $6.55|\n",
      "|2005|          null|  $8,800,805,718|                    $12,576,499,367|               $6.41|\n",
      "|null|1,49,56,51,298|  $9,287,996,519|                    $13,700,165,883|               $6.21|\n",
      "|2003|1,52,45,89,620|  $9,193,277,289|                               null|               $6.03|\n",
      "|2002|1,57,57,56,527|  $9,155,147,215|                    $14,433,929,789|               $5.81|\n",
      "+----+--------------+----------------+-----------------------------------+--------------------+\n",
      "only showing top 20 rows\n",
      "\n"
     ]
    }
   ],
   "source": [
    "# by default how is \"any\". If how is \"all\", it will look for rows with all values as null. See more details when you shift+tab after open parenthesis\n",
    "missing_val_df.na.drop(how=\"all\").show()"
   ]
  },
  {
   "cell_type": "code",
   "execution_count": 286,
   "id": "ff3d015c-ada2-4310-905a-cb165f3d6597",
   "metadata": {},
   "outputs": [
    {
     "name": "stdout",
     "output_type": "stream",
     "text": [
      "+----+--------------+----------------+-----------------------------------+--------------------+\n",
      "|YEAR|  TICKETS SOLD|TOTAL BOX OFFICE|TOTAL INFLATION ADJUSTED BOX OFFICE|AVERAGE TICKET PRICE|\n",
      "+----+--------------+----------------+-----------------------------------+--------------------+\n",
      "|2021|  42,37,74,881|  $3,881,777,912|                     $3,881,777,912|               $9.16|\n",
      "|2020|  22,36,38,958|  $2,048,534,616|                     $2,048,534,616|               $9.16|\n",
      "|2019|1,22,85,41,629| $11,253,443,955|                    $11,253,444,050|               $9.16|\n",
      "|2018|1,31,15,36,128| $11,948,096,650|                    $12,013,670,952|               $9.11|\n",
      "|2017|1,22,56,39,761| $10,993,991,460|                    $11,226,860,216|               $8.97|\n",
      "|2016|1,30,25,56,378| $11,267,115,924|                    $11,931,416,424|               $8.65|\n",
      "|2015|1,32,33,56,776| $11,155,900,636|                    $12,121,948,075|               $8.43|\n",
      "|2014|1,25,74,02,920| $10,272,985,008|                    $11,517,810,744|               $8.17|\n",
      "|2013|1,33,91,68,926| $10,887,446,341|                    $12,266,787,382|               $8.13|\n",
      "|2012|1,38,09,21,942| $10,992,141,616|                    $12,649,244,986|               $7.96|\n",
      "|2011|1,28,29,15,168| $10,173,519,704|                    $11,751,502,955|               $7.93|\n",
      "|2010|1,32,85,49,021| $10,482,254,025|                    $12,169,509,032|               $7.89|\n",
      "|2009|1,41,85,67,388| $10,639,257,284|                    $12,994,051,137|               $7.50|\n",
      "|2008|1,35,80,42,073|  $9,750,744,148|                    $12,439,665,380|               $7.18|\n",
      "|2007|1,42,00,36,680|  $9,769,854,914|                    $13,007,535,993|               $6.88|\n",
      "|2006|1,39,87,38,283|  $9,161,738,221|                    $12,812,442,671|               $6.55|\n",
      "|2005|          null|  $8,800,805,718|                    $12,576,499,367|               $6.41|\n",
      "|null|1,49,56,51,298|  $9,287,996,519|                    $13,700,165,883|               $6.21|\n",
      "|2003|1,52,45,89,620|  $9,193,277,289|                               null|               $6.03|\n",
      "|2002|1,57,57,56,527|  $9,155,147,215|                    $14,433,929,789|               $5.81|\n",
      "+----+--------------+----------------+-----------------------------------+--------------------+\n",
      "only showing top 20 rows\n",
      "\n"
     ]
    }
   ],
   "source": [
    "missing_val_df.na.drop(how=\"any\", thresh=2).show() # At least 2 non-null values should be present"
   ]
  },
  {
   "cell_type": "code",
   "execution_count": 287,
   "id": "c3517367-1303-44ef-b736-86a703a43b6d",
   "metadata": {},
   "outputs": [
    {
     "name": "stdout",
     "output_type": "stream",
     "text": [
      "+----+--------------+----------------+-----------------------------------+--------------------+\n",
      "|YEAR|  TICKETS SOLD|TOTAL BOX OFFICE|TOTAL INFLATION ADJUSTED BOX OFFICE|AVERAGE TICKET PRICE|\n",
      "+----+--------------+----------------+-----------------------------------+--------------------+\n",
      "|2021|  42,37,74,881|  $3,881,777,912|                     $3,881,777,912|               $9.16|\n",
      "|2020|  22,36,38,958|  $2,048,534,616|                     $2,048,534,616|               $9.16|\n",
      "|2019|1,22,85,41,629| $11,253,443,955|                    $11,253,444,050|               $9.16|\n",
      "|2018|1,31,15,36,128| $11,948,096,650|                    $12,013,670,952|               $9.11|\n",
      "|2017|1,22,56,39,761| $10,993,991,460|                    $11,226,860,216|               $8.97|\n",
      "|2016|1,30,25,56,378| $11,267,115,924|                    $11,931,416,424|               $8.65|\n",
      "|2015|1,32,33,56,776| $11,155,900,636|                    $12,121,948,075|               $8.43|\n",
      "|2014|1,25,74,02,920| $10,272,985,008|                    $11,517,810,744|               $8.17|\n",
      "|2013|1,33,91,68,926| $10,887,446,341|                    $12,266,787,382|               $8.13|\n",
      "|2012|1,38,09,21,942| $10,992,141,616|                    $12,649,244,986|               $7.96|\n",
      "|2011|1,28,29,15,168| $10,173,519,704|                    $11,751,502,955|               $7.93|\n",
      "|2010|1,32,85,49,021| $10,482,254,025|                    $12,169,509,032|               $7.89|\n",
      "|2009|1,41,85,67,388| $10,639,257,284|                    $12,994,051,137|               $7.50|\n",
      "|2008|1,35,80,42,073|  $9,750,744,148|                    $12,439,665,380|               $7.18|\n",
      "|2007|1,42,00,36,680|  $9,769,854,914|                    $13,007,535,993|               $6.88|\n",
      "|2006|1,39,87,38,283|  $9,161,738,221|                    $12,812,442,671|               $6.55|\n",
      "|null|1,49,56,51,298|  $9,287,996,519|                    $13,700,165,883|               $6.21|\n",
      "|2003|1,52,45,89,620|  $9,193,277,289|                               null|               $6.03|\n",
      "|2002|1,57,57,56,527|  $9,155,147,215|                    $14,433,929,789|               $5.81|\n",
      "|2001|1,46,58,74,205|            null|                    $13,427,407,722|               $5.66|\n",
      "+----+--------------+----------------+-----------------------------------+--------------------+\n",
      "only showing top 20 rows\n",
      "\n"
     ]
    }
   ],
   "source": [
    "missing_val_df.na.drop(how=\"any\", subset=[\"TICKETS SOLD\"]).show()"
   ]
  },
  {
   "cell_type": "code",
   "execution_count": 288,
   "id": "46fdd9eb-e1f1-4429-adb8-2cb16ef542f4",
   "metadata": {},
   "outputs": [
    {
     "name": "stdout",
     "output_type": "stream",
     "text": [
      "root\n",
      " |-- YEAR: integer (nullable = true)\n",
      " |-- TICKETS SOLD: string (nullable = true)\n",
      " |-- TOTAL BOX OFFICE: string (nullable = true)\n",
      " |-- TOTAL INFLATION ADJUSTED BOX OFFICE: string (nullable = true)\n",
      " |-- AVERAGE TICKET PRICE: string (nullable = true)\n",
      "\n"
     ]
    }
   ],
   "source": [
    "missing_val_df.printSchema()"
   ]
  },
  {
   "cell_type": "code",
   "execution_count": 289,
   "id": "6d87484f-7ec0-46e7-8b95-76f54663a821",
   "metadata": {},
   "outputs": [
    {
     "name": "stdout",
     "output_type": "stream",
     "text": [
      "+----+--------------+----------------+-----------------------------------+--------------------+\n",
      "|YEAR|  TICKETS SOLD|TOTAL BOX OFFICE|TOTAL INFLATION ADJUSTED BOX OFFICE|AVERAGE TICKET PRICE|\n",
      "+----+--------------+----------------+-----------------------------------+--------------------+\n",
      "|2021|  42,37,74,881|  $3,881,777,912|                     $3,881,777,912|               $9.16|\n",
      "|2020|  22,36,38,958|  $2,048,534,616|                     $2,048,534,616|               $9.16|\n",
      "|2019|1,22,85,41,629| $11,253,443,955|                    $11,253,444,050|               $9.16|\n",
      "|2018|1,31,15,36,128| $11,948,096,650|                    $12,013,670,952|               $9.11|\n",
      "|2017|1,22,56,39,761| $10,993,991,460|                    $11,226,860,216|               $8.97|\n",
      "|2016|1,30,25,56,378| $11,267,115,924|                    $11,931,416,424|               $8.65|\n",
      "|2015|1,32,33,56,776| $11,155,900,636|                    $12,121,948,075|               $8.43|\n",
      "|2014|1,25,74,02,920| $10,272,985,008|                    $11,517,810,744|               $8.17|\n",
      "|2013|1,33,91,68,926| $10,887,446,341|                    $12,266,787,382|               $8.13|\n",
      "|2012|1,38,09,21,942| $10,992,141,616|                    $12,649,244,986|               $7.96|\n",
      "|2011|1,28,29,15,168| $10,173,519,704|                    $11,751,502,955|               $7.93|\n",
      "|2010|1,32,85,49,021| $10,482,254,025|                    $12,169,509,032|               $7.89|\n",
      "|2009|1,41,85,67,388| $10,639,257,284|                    $12,994,051,137|               $7.50|\n",
      "|2008|1,35,80,42,073|  $9,750,744,148|                    $12,439,665,380|               $7.18|\n",
      "|2007|1,42,00,36,680|  $9,769,854,914|                    $13,007,535,993|               $6.88|\n",
      "|2006|1,39,87,38,283|  $9,161,738,221|                    $12,812,442,671|               $6.55|\n",
      "|2005|Missing Values|  $8,800,805,718|                    $12,576,499,367|               $6.41|\n",
      "|null|1,49,56,51,298|  $9,287,996,519|                    $13,700,165,883|               $6.21|\n",
      "|2003|1,52,45,89,620|  $9,193,277,289|                     Missing Values|               $6.03|\n",
      "|2002|1,57,57,56,527|  $9,155,147,215|                    $14,433,929,789|               $5.81|\n",
      "+----+--------------+----------------+-----------------------------------+--------------------+\n",
      "only showing top 20 rows\n",
      "\n"
     ]
    }
   ],
   "source": [
    "# Filling the Missing Value\n",
    "missing_val_df.na.fill('Missing Values').show() # note that Year wasn't filled because Year is int, while the other columns are str"
   ]
  },
  {
   "cell_type": "code",
   "execution_count": 290,
   "id": "68010c39-7d89-4302-ad58-a1351a374c87",
   "metadata": {},
   "outputs": [
    {
     "name": "stdout",
     "output_type": "stream",
     "text": [
      "+----+--------------+----------------+-----------------------------------+--------------------+\n",
      "|YEAR|  TICKETS SOLD|TOTAL BOX OFFICE|TOTAL INFLATION ADJUSTED BOX OFFICE|AVERAGE TICKET PRICE|\n",
      "+----+--------------+----------------+-----------------------------------+--------------------+\n",
      "|2021|  42,37,74,881|  $3,881,777,912|                     $3,881,777,912|               $9.16|\n",
      "|2020|  22,36,38,958|  $2,048,534,616|                     $2,048,534,616|               $9.16|\n",
      "|2019|1,22,85,41,629| $11,253,443,955|                    $11,253,444,050|               $9.16|\n",
      "|2018|1,31,15,36,128| $11,948,096,650|                    $12,013,670,952|               $9.11|\n",
      "|2017|1,22,56,39,761| $10,993,991,460|                    $11,226,860,216|               $8.97|\n",
      "|2016|1,30,25,56,378| $11,267,115,924|                    $11,931,416,424|               $8.65|\n",
      "|2015|1,32,33,56,776| $11,155,900,636|                    $12,121,948,075|               $8.43|\n",
      "|2014|1,25,74,02,920| $10,272,985,008|                    $11,517,810,744|               $8.17|\n",
      "|2013|1,33,91,68,926| $10,887,446,341|                    $12,266,787,382|               $8.13|\n",
      "|2012|1,38,09,21,942| $10,992,141,616|                    $12,649,244,986|               $7.96|\n",
      "|2011|1,28,29,15,168| $10,173,519,704|                    $11,751,502,955|               $7.93|\n",
      "|2010|1,32,85,49,021| $10,482,254,025|                    $12,169,509,032|               $7.89|\n",
      "|2009|1,41,85,67,388| $10,639,257,284|                    $12,994,051,137|               $7.50|\n",
      "|2008|1,35,80,42,073|  $9,750,744,148|                    $12,439,665,380|               $7.18|\n",
      "|2007|1,42,00,36,680|  $9,769,854,914|                    $13,007,535,993|               $6.88|\n",
      "|2006|1,39,87,38,283|  $9,161,738,221|                    $12,812,442,671|               $6.55|\n",
      "|2005|          null|  $8,800,805,718|                    $12,576,499,367|               $6.41|\n",
      "| 999|1,49,56,51,298|  $9,287,996,519|                    $13,700,165,883|               $6.21|\n",
      "|2003|1,52,45,89,620|  $9,193,277,289|                               null|               $6.03|\n",
      "|2002|1,57,57,56,527|  $9,155,147,215|                    $14,433,929,789|               $5.81|\n",
      "+----+--------------+----------------+-----------------------------------+--------------------+\n",
      "only showing top 20 rows\n",
      "\n"
     ]
    }
   ],
   "source": [
    "### Filling the Missing Value\n",
    "missing_val_df.na.fill(999, ['Year']).show()"
   ]
  },
  {
   "cell_type": "code",
   "execution_count": 291,
   "id": "99b3a0bf-44b4-4735-8265-41126d075858",
   "metadata": {},
   "outputs": [
    {
     "data": {
      "text/plain": [
       "DataFrame[YEAR: int, TICKETS SOLD: string, TOTAL BOX OFFICE: string, TOTAL INFLATION ADJUSTED BOX OFFICE: string, AVERAGE TICKET PRICE: string]"
      ]
     },
     "execution_count": 291,
     "metadata": {},
     "output_type": "execute_result"
    }
   ],
   "source": [
    "missing_val_df"
   ]
  },
  {
   "cell_type": "code",
   "execution_count": 292,
   "id": "c3ac5dfb-0730-4646-a227-bf4c79a22b64",
   "metadata": {},
   "outputs": [
    {
     "name": "stdout",
     "output_type": "stream",
     "text": [
      "root\n",
      " |-- YEAR: integer (nullable = true)\n",
      " |-- TICKETS SOLD: string (nullable = true)\n",
      " |-- TOTAL BOX OFFICE: string (nullable = true)\n",
      " |-- TOTAL INFLATION ADJUSTED BOX OFFICE: string (nullable = true)\n",
      " |-- AVERAGE TICKET PRICE: string (nullable = true)\n",
      "\n"
     ]
    }
   ],
   "source": [
    "missing_val_df.printSchema()"
   ]
  },
  {
   "cell_type": "code",
   "execution_count": null,
   "id": "eecf512d-1063-4dc6-bea4-d6cb0d450e13",
   "metadata": {},
   "outputs": [],
   "source": []
  },
  {
   "cell_type": "code",
   "execution_count": 293,
   "id": "a691ada6-26e7-4392-840c-31087f0c6ec6",
   "metadata": {},
   "outputs": [],
   "source": [
    "from pyspark.sql.functions import udf, col, when\n",
    "import re\n",
    "\n",
    "commaRep = udf(lambda x: re.sub(',|\\$| ','', x))\n",
    "missing_val_df = missing_val_df.na.fill(\"\", [\"TICKETS SOLD\"]).withColumn('TICKETS SOLD',commaRep('TICKETS SOLD'))\n",
    "missing_val_df = missing_val_df.withColumn('TICKETS SOLD', when((missing_val_df[\"TICKETS SOLD\"] == \"\"), None).otherwise(missing_val_df[\"TICKETS SOLD\"]))\n",
    "\n",
    "# missing_val_df.show(3)\n"
   ]
  },
  {
   "cell_type": "code",
   "execution_count": 294,
   "id": "9b2aeaf1-7947-479d-8cef-c48bf09fc4e4",
   "metadata": {},
   "outputs": [
    {
     "name": "stdout",
     "output_type": "stream",
     "text": [
      "+----+------------+----------------+-----------------------------------+--------------------+\n",
      "|YEAR|TICKETS SOLD|TOTAL BOX OFFICE|TOTAL INFLATION ADJUSTED BOX OFFICE|AVERAGE TICKET PRICE|\n",
      "+----+------------+----------------+-----------------------------------+--------------------+\n",
      "|2021|   423774881|  $3,881,777,912|                     $3,881,777,912|               $9.16|\n",
      "|2020|   223638958|  $2,048,534,616|                     $2,048,534,616|               $9.16|\n",
      "|2019|  1228541629| $11,253,443,955|                    $11,253,444,050|               $9.16|\n",
      "|2018|  1311536128| $11,948,096,650|                    $12,013,670,952|               $9.11|\n",
      "|2017|  1225639761| $10,993,991,460|                    $11,226,860,216|               $8.97|\n",
      "|2016|  1302556378| $11,267,115,924|                    $11,931,416,424|               $8.65|\n",
      "|2015|  1323356776| $11,155,900,636|                    $12,121,948,075|               $8.43|\n",
      "|2014|  1257402920| $10,272,985,008|                    $11,517,810,744|               $8.17|\n",
      "|2013|  1339168926| $10,887,446,341|                    $12,266,787,382|               $8.13|\n",
      "|2012|  1380921942| $10,992,141,616|                    $12,649,244,986|               $7.96|\n",
      "|2011|  1282915168| $10,173,519,704|                    $11,751,502,955|               $7.93|\n",
      "|2010|  1328549021| $10,482,254,025|                    $12,169,509,032|               $7.89|\n",
      "|2009|  1418567388| $10,639,257,284|                    $12,994,051,137|               $7.50|\n",
      "|2008|  1358042073|  $9,750,744,148|                    $12,439,665,380|               $7.18|\n",
      "|2007|  1420036680|  $9,769,854,914|                    $13,007,535,993|               $6.88|\n",
      "|2006|  1398738283|  $9,161,738,221|                    $12,812,442,671|               $6.55|\n",
      "|2005|        null|  $8,800,805,718|                    $12,576,499,367|               $6.41|\n",
      "|null|  1495651298|  $9,287,996,519|                    $13,700,165,883|               $6.21|\n",
      "|2003|  1524589620|  $9,193,277,289|                               null|               $6.03|\n",
      "|2002|  1575756527|  $9,155,147,215|                    $14,433,929,789|               $5.81|\n",
      "+----+------------+----------------+-----------------------------------+--------------------+\n",
      "only showing top 20 rows\n",
      "\n"
     ]
    }
   ],
   "source": [
    "missing_val_df.show()"
   ]
  },
  {
   "cell_type": "code",
   "execution_count": 295,
   "id": "260d5fac-a128-4ced-8b9a-7ae13eb7d3a6",
   "metadata": {},
   "outputs": [],
   "source": [
    "missing_val_df = missing_val_df.na.fill(\"\", [\"TOTAL INFLATION ADJUSTED BOX OFFICE\"]).withColumn('TOTAL INFLATION ADJUSTED BOX OFFICE',commaRep('TOTAL INFLATION ADJUSTED BOX OFFICE'))\n"
   ]
  },
  {
   "cell_type": "code",
   "execution_count": 296,
   "id": "f14d3823-2e08-4240-b791-a7f4708b53cb",
   "metadata": {},
   "outputs": [],
   "source": [
    "missing_val_df = missing_val_df.withColumn('TOTAL INFLATION ADJUSTED BOX OFFICE',when((missing_val_df[\"TOTAL INFLATION ADJUSTED BOX OFFICE\"] == \"\"), None).otherwise(missing_val_df[\"TOTAL INFLATION ADJUSTED BOX OFFICE\"]))"
   ]
  },
  {
   "cell_type": "code",
   "execution_count": 297,
   "id": "5d2a14fe-f939-4e14-b3f6-1bb09d67fdf5",
   "metadata": {},
   "outputs": [
    {
     "name": "stdout",
     "output_type": "stream",
     "text": [
      "+----+------------+----------------+-----------------------------------+--------------------+\n",
      "|YEAR|TICKETS SOLD|TOTAL BOX OFFICE|TOTAL INFLATION ADJUSTED BOX OFFICE|AVERAGE TICKET PRICE|\n",
      "+----+------------+----------------+-----------------------------------+--------------------+\n",
      "|2021|   423774881|  $3,881,777,912|                         3881777912|               $9.16|\n",
      "|2020|   223638958|  $2,048,534,616|                         2048534616|               $9.16|\n",
      "|2019|  1228541629| $11,253,443,955|                        11253444050|               $9.16|\n",
      "|2018|  1311536128| $11,948,096,650|                        12013670952|               $9.11|\n",
      "|2017|  1225639761| $10,993,991,460|                        11226860216|               $8.97|\n",
      "|2016|  1302556378| $11,267,115,924|                        11931416424|               $8.65|\n",
      "|2015|  1323356776| $11,155,900,636|                        12121948075|               $8.43|\n",
      "|2014|  1257402920| $10,272,985,008|                        11517810744|               $8.17|\n",
      "|2013|  1339168926| $10,887,446,341|                        12266787382|               $8.13|\n",
      "|2012|  1380921942| $10,992,141,616|                        12649244986|               $7.96|\n",
      "|2011|  1282915168| $10,173,519,704|                        11751502955|               $7.93|\n",
      "|2010|  1328549021| $10,482,254,025|                        12169509032|               $7.89|\n",
      "|2009|  1418567388| $10,639,257,284|                        12994051137|               $7.50|\n",
      "|2008|  1358042073|  $9,750,744,148|                        12439665380|               $7.18|\n",
      "|2007|  1420036680|  $9,769,854,914|                        13007535993|               $6.88|\n",
      "|2006|  1398738283|  $9,161,738,221|                        12812442671|               $6.55|\n",
      "|2005|        null|  $8,800,805,718|                        12576499367|               $6.41|\n",
      "|null|  1495651298|  $9,287,996,519|                        13700165883|               $6.21|\n",
      "|2003|  1524589620|  $9,193,277,289|                               null|               $6.03|\n",
      "|2002|  1575756527|  $9,155,147,215|                        14433929789|               $5.81|\n",
      "+----+------------+----------------+-----------------------------------+--------------------+\n",
      "only showing top 20 rows\n",
      "\n"
     ]
    }
   ],
   "source": [
    "missing_val_df.show()"
   ]
  },
  {
   "cell_type": "code",
   "execution_count": 298,
   "id": "c56e6c02-61b1-493e-9e6a-02f87e33178c",
   "metadata": {},
   "outputs": [],
   "source": [
    "missing_val_df=missing_val_df.withColumn('TICKETS SOLD',col('TICKETS SOLD').cast(\"Integer\"))"
   ]
  },
  {
   "cell_type": "code",
   "execution_count": 299,
   "id": "193d691c-60c4-4b11-afe8-e2a3fdec07e5",
   "metadata": {},
   "outputs": [
    {
     "name": "stdout",
     "output_type": "stream",
     "text": [
      "+----+------------+----------------+-----------------------------------+--------------------+\n",
      "|YEAR|TICKETS SOLD|TOTAL BOX OFFICE|TOTAL INFLATION ADJUSTED BOX OFFICE|AVERAGE TICKET PRICE|\n",
      "+----+------------+----------------+-----------------------------------+--------------------+\n",
      "|2021|   423774881|  $3,881,777,912|                         3881777912|               $9.16|\n",
      "|2020|   223638958|  $2,048,534,616|                         2048534616|               $9.16|\n",
      "|2019|  1228541629| $11,253,443,955|                        11253444050|               $9.16|\n",
      "|2018|  1311536128| $11,948,096,650|                        12013670952|               $9.11|\n",
      "|2017|  1225639761| $10,993,991,460|                        11226860216|               $8.97|\n",
      "|2016|  1302556378| $11,267,115,924|                        11931416424|               $8.65|\n",
      "|2015|  1323356776| $11,155,900,636|                        12121948075|               $8.43|\n",
      "|2014|  1257402920| $10,272,985,008|                        11517810744|               $8.17|\n",
      "|2013|  1339168926| $10,887,446,341|                        12266787382|               $8.13|\n",
      "|2012|  1380921942| $10,992,141,616|                        12649244986|               $7.96|\n",
      "|2011|  1282915168| $10,173,519,704|                        11751502955|               $7.93|\n",
      "|2010|  1328549021| $10,482,254,025|                        12169509032|               $7.89|\n",
      "|2009|  1418567388| $10,639,257,284|                        12994051137|               $7.50|\n",
      "|2008|  1358042073|  $9,750,744,148|                        12439665380|               $7.18|\n",
      "|2007|  1420036680|  $9,769,854,914|                        13007535993|               $6.88|\n",
      "|2006|  1398738283|  $9,161,738,221|                        12812442671|               $6.55|\n",
      "|2005|        null|  $8,800,805,718|                        12576499367|               $6.41|\n",
      "|null|  1495651298|  $9,287,996,519|                        13700165883|               $6.21|\n",
      "|2003|  1524589620|  $9,193,277,289|                               null|               $6.03|\n",
      "|2002|  1575756527|  $9,155,147,215|                        14433929789|               $5.81|\n",
      "+----+------------+----------------+-----------------------------------+--------------------+\n",
      "only showing top 20 rows\n",
      "\n"
     ]
    }
   ],
   "source": [
    "missing_val_df.show()"
   ]
  },
  {
   "cell_type": "code",
   "execution_count": 300,
   "id": "a5c19a19-db73-41f8-941e-3fc29906225a",
   "metadata": {},
   "outputs": [],
   "source": [
    "missing_val_df = missing_val_df.withColumn('TOTAL INFLATION ADJUSTED BOX OFFICE',col('TOTAL INFLATION ADJUSTED BOX OFFICE').cast(\"Long\"))"
   ]
  },
  {
   "cell_type": "code",
   "execution_count": 301,
   "id": "5cb6f4dc-bca0-4ad5-8256-bd015478e621",
   "metadata": {},
   "outputs": [
    {
     "name": "stdout",
     "output_type": "stream",
     "text": [
      "root\n",
      " |-- YEAR: integer (nullable = true)\n",
      " |-- TICKETS SOLD: integer (nullable = true)\n",
      " |-- TOTAL BOX OFFICE: string (nullable = true)\n",
      " |-- TOTAL INFLATION ADJUSTED BOX OFFICE: long (nullable = true)\n",
      " |-- AVERAGE TICKET PRICE: string (nullable = true)\n",
      "\n"
     ]
    }
   ],
   "source": [
    "missing_val_df.printSchema()"
   ]
  },
  {
   "cell_type": "code",
   "execution_count": 302,
   "id": "aca12402-c2c8-4251-9949-0cc83467e89a",
   "metadata": {},
   "outputs": [],
   "source": [
    "from pyspark.ml.feature import Imputer\n",
    "\n",
    "imputer = Imputer(\n",
    "    inputCols=[\"TICKETS SOLD\", \"TOTAL INFLATION ADJUSTED BOX OFFICE\"],\n",
    "    outputCols=[\"{}_imputed\".format(c) for c in [\"TICKETS SOLD\", \"TOTAL INFLATION ADJUSTED BOX OFFICE\"]],\n",
    ").setStrategy(\"mean\")"
   ]
  },
  {
   "cell_type": "code",
   "execution_count": 303,
   "id": "0a5dade0-8384-4e14-afd4-5338de3a772a",
   "metadata": {},
   "outputs": [
    {
     "name": "stdout",
     "output_type": "stream",
     "text": [
      "+----+------------+----------------+-----------------------------------+--------------------+--------------------+-------------------------------------------+\n",
      "|YEAR|TICKETS SOLD|TOTAL BOX OFFICE|TOTAL INFLATION ADJUSTED BOX OFFICE|AVERAGE TICKET PRICE|TICKETS SOLD_imputed|TOTAL INFLATION ADJUSTED BOX OFFICE_imputed|\n",
      "+----+------------+----------------+-----------------------------------+--------------------+--------------------+-------------------------------------------+\n",
      "|2021|   423774881|  $3,881,777,912|                         3881777912|               $9.16|           423774881|                                 3881777912|\n",
      "|2020|   223638958|  $2,048,534,616|                         2048534616|               $9.16|           223638958|                                 2048534616|\n",
      "|2019|  1228541629| $11,253,443,955|                        11253444050|               $9.16|          1228541629|                                11253444050|\n",
      "|2018|  1311536128| $11,948,096,650|                        12013670952|               $9.11|          1311536128|                                12013670952|\n",
      "|2017|  1225639761| $10,993,991,460|                        11226860216|               $8.97|          1225639761|                                11226860216|\n",
      "|2016|  1302556378| $11,267,115,924|                        11931416424|               $8.65|          1302556378|                                11931416424|\n",
      "|2015|  1323356776| $11,155,900,636|                        12121948075|               $8.43|          1323356776|                                12121948075|\n",
      "|2014|  1257402920| $10,272,985,008|                        11517810744|               $8.17|          1257402920|                                11517810744|\n",
      "|2013|  1339168926| $10,887,446,341|                        12266787382|               $8.13|          1339168926|                                12266787382|\n",
      "|2012|  1380921942| $10,992,141,616|                        12649244986|               $7.96|          1380921942|                                12649244986|\n",
      "|2011|  1282915168| $10,173,519,704|                        11751502955|               $7.93|          1282915168|                                11751502955|\n",
      "|2010|  1328549021| $10,482,254,025|                        12169509032|               $7.89|          1328549021|                                12169509032|\n",
      "|2009|  1418567388| $10,639,257,284|                        12994051137|               $7.50|          1418567388|                                12994051137|\n",
      "|2008|  1358042073|  $9,750,744,148|                        12439665380|               $7.18|          1358042073|                                12439665380|\n",
      "|2007|  1420036680|  $9,769,854,914|                        13007535993|               $6.88|          1420036680|                                13007535993|\n",
      "|2006|  1398738283|  $9,161,738,221|                        12812442671|               $6.55|          1398738283|                                12812442671|\n",
      "|2005|        null|  $8,800,805,718|                        12576499367|               $6.41|          1286749693|                                12576499367|\n",
      "|null|  1495651298|  $9,287,996,519|                        13700165883|               $6.21|          1495651298|                                13700165883|\n",
      "|2003|  1524589620|  $9,193,277,289|                               null|               $6.03|          1524589620|                                11733211495|\n",
      "|2002|  1575756527|  $9,155,147,215|                        14433929789|               $5.81|          1575756527|                                14433929789|\n",
      "+----+------------+----------------+-----------------------------------+--------------------+--------------------+-------------------------------------------+\n",
      "only showing top 20 rows\n",
      "\n"
     ]
    }
   ],
   "source": [
    "# Add imputation cols to df\n",
    "\n",
    "imputer.fit(missing_val_df).transform(missing_val_df).show()"
   ]
  }
 ],
 "metadata": {
  "kernelspec": {
   "display_name": "pyspark-env",
   "language": "python",
   "name": "pyspark-env"
  },
  "language_info": {
   "codemirror_mode": {
    "name": "ipython",
    "version": 3
   },
   "file_extension": ".py",
   "mimetype": "text/x-python",
   "name": "python",
   "nbconvert_exporter": "python",
   "pygments_lexer": "ipython3",
   "version": "3.9.1"
  }
 },
 "nbformat": 4,
 "nbformat_minor": 5
}
