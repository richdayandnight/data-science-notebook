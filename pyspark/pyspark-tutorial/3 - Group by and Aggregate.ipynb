{
 "cells": [
  {
   "cell_type": "markdown",
   "id": "9c728798-0ec0-46dc-aa45-86dd1b71652f",
   "metadata": {},
   "source": [
    "# Group by and Aggregate Functions"
   ]
  },
  {
   "cell_type": "code",
   "execution_count": 1,
   "id": "401239f9-92ec-440c-b9fd-c47fe274db65",
   "metadata": {},
   "outputs": [],
   "source": [
    "from pyspark.sql import SparkSession"
   ]
  },
  {
   "cell_type": "code",
   "execution_count": 2,
   "id": "7d6b87a2-aa1c-47be-b8e3-91c8a12a7472",
   "metadata": {},
   "outputs": [
    {
     "name": "stderr",
     "output_type": "stream",
     "text": [
      "22/01/25 14:58:12 WARN Utils: Your hostname, rich resolves to a loopback address: 127.0.1.1; using 192.168.68.114 instead (on interface wlp0s20f3)\n",
      "22/01/25 14:58:12 WARN Utils: Set SPARK_LOCAL_IP if you need to bind to another address\n",
      "WARNING: An illegal reflective access operation has occurred\n",
      "WARNING: Illegal reflective access by org.apache.spark.unsafe.Platform (file:/home/rich/.pyenv/versions/3.9.1/envs/pyspark-env/lib/python3.9/site-packages/pyspark/jars/spark-unsafe_2.12-3.2.0.jar) to constructor java.nio.DirectByteBuffer(long,int)\n",
      "WARNING: Please consider reporting this to the maintainers of org.apache.spark.unsafe.Platform\n",
      "WARNING: Use --illegal-access=warn to enable warnings of further illegal reflective access operations\n",
      "WARNING: All illegal access operations will be denied in a future release\n",
      "Using Spark's default log4j profile: org/apache/spark/log4j-defaults.properties\n",
      "Setting default log level to \"WARN\".\n",
      "To adjust logging level use sc.setLogLevel(newLevel). For SparkR, use setLogLevel(newLevel).\n",
      "22/01/25 14:58:13 WARN NativeCodeLoader: Unable to load native-hadoop library for your platform... using builtin-java classes where applicable\n",
      "22/01/25 14:58:13 WARN Utils: Service 'SparkUI' could not bind on port 4040. Attempting port 4041.\n",
      "22/01/25 14:58:13 WARN Utils: Service 'SparkUI' could not bind on port 4041. Attempting port 4042.\n"
     ]
    }
   ],
   "source": [
    "spark = SparkSession.builder.appName(\"groupby-test\").getOrCreate()"
   ]
  },
  {
   "cell_type": "code",
   "execution_count": 3,
   "id": "4c4ca23f-d0b4-435d-b697-d7211a42a7f2",
   "metadata": {},
   "outputs": [],
   "source": [
    "df_pyspark = spark.read.option(\"header\", \"true\").csv(\"archive/HighestGrossers_Cleaned.csv\", inferSchema=True)"
   ]
  },
  {
   "cell_type": "code",
   "execution_count": 5,
   "id": "91630ff8-077c-456b-82c8-a662342c5feb",
   "metadata": {},
   "outputs": [
    {
     "name": "stdout",
     "output_type": "stream",
     "text": [
      "+----+--------------------+---------+-----------+------------------+--------------+---------------------+------------+\n",
      "|YEAR|               MOVIE|    GENRE|MPAA RATING|       DISTRIBUTOR|TOTAL FOR YEAR|TOTAL IN 2019 DOLLARS|TICKETS SOLD|\n",
      "+----+--------------------+---------+-----------+------------------+--------------+---------------------+------------+\n",
      "|1995|      Batman Forever|    Drama|      PG-13|      Warner Bros.|     184031112|            387522978|    42306002|\n",
      "|1996|    Independence Day|Adventure|      PG-13|  20th Century Fox|     306169255|            634504608|    69269062|\n",
      "|1997|        Men in Black|Adventure|      PG-13|     Sony Pictures|     250650052|            500207943|    54607854|\n",
      "|1998|             Titanic|Adventure|      PG-13|Paramount Pictures|     443319081|            865842808|    94524324|\n",
      "|1999|Star Wars Ep. I: ...|Adventure|         PG|  20th Century Fox|     430443350|            776153749|    84732942|\n",
      "|2000|How the Grinch St...|Adventure|         PG|         Universal|     253367455|            430583644|    47006948|\n",
      "|2001|Harry Potter and ...|Adventure|         PG|      Warner Bros.|     300404434|            486166890|    53074988|\n",
      "|2002|          Spider-Man|Adventure|      PG-13|     Sony Pictures|     403706375|            636480273|    69484746|\n",
      "|2003|        Finding Nemo|Adventure|          G|       Walt Disney|     339714367|            516050346|    56337374|\n",
      "|2004|             Shrek 2|Adventure|         PG|    Dreamworks SKG|     441226247|            650826473|    71050925|\n",
      "|2005|Star Wars Ep. III...|   Action|      PG-13|  20th Century Fox|     380270577|            543413171|    59324582|\n",
      "|2006|Pirates of the Ca...|   Action|      PG-13|       Walt Disney|     423315812|            591995851|    64628368|\n",
      "|2007|        Spider-Man 3|Adventure|      PG-13|     Sony Pictures|     336530303|            448054878|    48914288|\n",
      "|2008|     The Dark Knight|Adventure|      PG-13|      Warner Bros.|     531001578|            677433772|    73955652|\n",
      "|2009|Transformers: Rev...|   Action|      PG-13|Paramount Pictures|     402111870|            491112631|    53614916|\n",
      "|2010|         Toy Story 3|   Action|          G|       Walt Disney|     415004880|            481805411|    52598844|\n",
      "|2011|Harry Potter and ...|   Action|      PG-13|      Warner Bros.|     381011219|            440108798|    48046812|\n",
      "|2012|        The Avengers|Adventure|      PG-13|       Walt Disney|     623357910|            717331462|    78311295|\n",
      "|2013|          Iron Man 3|Adventure|      PG-13|       Walt Disney|     408992272|            460808016|    50306552|\n",
      "|2014|Guardians of the ...|Adventure|      PG-13|       Walt Disney|     333055258|            373413235|    40765637|\n",
      "+----+--------------------+---------+-----------+------------------+--------------+---------------------+------------+\n",
      "only showing top 20 rows\n",
      "\n"
     ]
    }
   ],
   "source": [
    "df_pyspark.show()"
   ]
  },
  {
   "cell_type": "code",
   "execution_count": 6,
   "id": "dfaf0efe-c5a2-462f-9ac0-5095afbd5c36",
   "metadata": {},
   "outputs": [
    {
     "name": "stdout",
     "output_type": "stream",
     "text": [
      "root\n",
      " |-- YEAR: integer (nullable = true)\n",
      " |-- MOVIE: string (nullable = true)\n",
      " |-- GENRE: string (nullable = true)\n",
      " |-- MPAA RATING: string (nullable = true)\n",
      " |-- DISTRIBUTOR: string (nullable = true)\n",
      " |-- TOTAL FOR YEAR: integer (nullable = true)\n",
      " |-- TOTAL IN 2019 DOLLARS: integer (nullable = true)\n",
      " |-- TICKETS SOLD: integer (nullable = true)\n",
      "\n"
     ]
    }
   ],
   "source": [
    "df_pyspark.printSchema()"
   ]
  },
  {
   "cell_type": "code",
   "execution_count": 13,
   "id": "83d0f0f8-a324-4930-a9e5-4d6db10eb2f7",
   "metadata": {},
   "outputs": [
    {
     "name": "stdout",
     "output_type": "stream",
     "text": [
      "+---------+---------+-------------------+--------------------------+-----------------+\n",
      "|    GENRE|sum(YEAR)|sum(TOTAL FOR YEAR)|sum(TOTAL IN 2019 DOLLARS)|sum(TICKETS SOLD)|\n",
      "+---------+---------+-------------------+--------------------------+-----------------+\n",
      "|Adventure|    28054|         5401937937|                8173858097|        892342587|\n",
      "|    Drama|     1995|          184031112|                 387522978|         42306002|\n",
      "|   Action|    18107|         4447496795|                5101959828|        556982514|\n",
      "|     null|     6060|         1287017559|                1287017554|        140504099|\n",
      "+---------+---------+-------------------+--------------------------+-----------------+\n",
      "\n"
     ]
    }
   ],
   "source": [
    "# Groupby\n",
    "\n",
    "df_pyspark.groupBy('GENRE').sum().show()"
   ]
  },
  {
   "cell_type": "code",
   "execution_count": 11,
   "id": "4ab7e712-c964-4c34-93e7-45dc330b1b09",
   "metadata": {},
   "outputs": [
    {
     "name": "stdout",
     "output_type": "stream",
     "text": [
      "+---------+-----+\n",
      "|    Genre|count|\n",
      "+---------+-----+\n",
      "|Adventure|   14|\n",
      "|    Drama|    1|\n",
      "|   Action|    9|\n",
      "|     null|    3|\n",
      "+---------+-----+\n",
      "\n"
     ]
    }
   ],
   "source": [
    "df_pyspark.groupBy('Genre').count().show()"
   ]
  },
  {
   "cell_type": "code",
   "execution_count": 18,
   "id": "fb8e7c9f-ba8d-48a3-a38f-adaa50e4e44a",
   "metadata": {},
   "outputs": [
    {
     "name": "stdout",
     "output_type": "stream",
     "text": [
      "+-----------+---------+-------------------+--------------------------+-----------------+\n",
      "|MPAA Rating|sum(YEAR)|sum(TOTAL FOR YEAR)|sum(TOTAL IN 2019 DOLLARS)|sum(TICKETS SOLD)|\n",
      "+-----------+---------+-------------------+--------------------------+-----------------+\n",
      "|         PG|    10020|         1911737047|                2858698078|        312084943|\n",
      "|          R|     2020|          204417855|                 204417848|         22316359|\n",
      "|          G|     4013|          754719247|                 997855757|        108936218|\n",
      "|      PG-13|    38163|         8449609254|               10889386774|       1188797682|\n",
      "+-----------+---------+-------------------+--------------------------+-----------------+\n",
      "\n"
     ]
    }
   ],
   "source": [
    "df_pyspark.groupBy('MPAA Rating').sum().show()"
   ]
  },
  {
   "cell_type": "code",
   "execution_count": 14,
   "id": "0d1fa8cc-ea6b-4319-8cf5-38b8fe7e3e9f",
   "metadata": {},
   "outputs": [
    {
     "name": "stdout",
     "output_type": "stream",
     "text": [
      "+-----------------+\n",
      "|sum(TICKETS SOLD)|\n",
      "+-----------------+\n",
      "|       1632135202|\n",
      "+-----------------+\n",
      "\n"
     ]
    }
   ],
   "source": [
    "# Aggregate\n",
    "df_pyspark.agg({'TICKETS SOLD':'sum'}).show()"
   ]
  },
  {
   "cell_type": "markdown",
   "id": "32e3c333-190f-4677-98da-acc2cf424202",
   "metadata": {},
   "source": [
    "# Other agg operation\n",
    "\n",
    "- sum\n",
    "- avg\n",
    "- min\n",
    "- max"
   ]
  },
  {
   "cell_type": "code",
   "execution_count": null,
   "id": "db2e783a-f223-4443-8463-4f2cf541a110",
   "metadata": {},
   "outputs": [],
   "source": []
  }
 ],
 "metadata": {
  "kernelspec": {
   "display_name": "pyspark-env",
   "language": "python",
   "name": "pyspark-env"
  },
  "language_info": {
   "codemirror_mode": {
    "name": "ipython",
    "version": 3
   },
   "file_extension": ".py",
   "mimetype": "text/x-python",
   "name": "python",
   "nbconvert_exporter": "python",
   "pygments_lexer": "ipython3",
   "version": "3.9.1"
  }
 },
 "nbformat": 4,
 "nbformat_minor": 5
}
