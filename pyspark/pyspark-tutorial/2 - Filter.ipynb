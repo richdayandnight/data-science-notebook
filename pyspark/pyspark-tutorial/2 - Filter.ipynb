{
 "cells": [
  {
   "cell_type": "markdown",
   "id": "43a0717e-2224-45da-ad2d-8faeebcc796d",
   "metadata": {},
   "source": [
    "# Pyspark Dataframes\n",
    "- Filter Operation\n",
    "- &, |, ==\n",
    "- ~"
   ]
  },
  {
   "cell_type": "code",
   "execution_count": 9,
   "id": "fdae7de8-f1d2-4bc1-a482-8c40aed4836f",
   "metadata": {},
   "outputs": [],
   "source": [
    "from pyspark.sql import SparkSession"
   ]
  },
  {
   "cell_type": "code",
   "execution_count": 10,
   "id": "f8c11da3-27ca-4f80-a433-feae9536aede",
   "metadata": {},
   "outputs": [],
   "source": [
    "spark = SparkSession.builder.appName('filter').getOrCreate()"
   ]
  },
  {
   "cell_type": "code",
   "execution_count": 11,
   "id": "13cab4fa-2486-4665-ba7f-5870d299f2ed",
   "metadata": {},
   "outputs": [],
   "source": [
    "df_pyspark = spark.read.option(\"header\", \"true\").csv(\"archive/HighestGrossers_Cleaned.csv\", inferSchema=True)"
   ]
  },
  {
   "cell_type": "code",
   "execution_count": 12,
   "id": "621d2d1c-a7ef-496a-af38-d07cafec4aab",
   "metadata": {},
   "outputs": [
    {
     "name": "stdout",
     "output_type": "stream",
     "text": [
      "+----+--------------------+---------+-----------+------------------+--------------+---------------------+------------+\n",
      "|YEAR|               MOVIE|    GENRE|MPAA RATING|       DISTRIBUTOR|TOTAL FOR YEAR|TOTAL IN 2019 DOLLARS|TICKETS SOLD|\n",
      "+----+--------------------+---------+-----------+------------------+--------------+---------------------+------------+\n",
      "|1995|      Batman Forever|    Drama|      PG-13|      Warner Bros.|     184031112|            387522978|    42306002|\n",
      "|1996|    Independence Day|Adventure|      PG-13|  20th Century Fox|     306169255|            634504608|    69269062|\n",
      "|1997|        Men in Black|Adventure|      PG-13|     Sony Pictures|     250650052|            500207943|    54607854|\n",
      "|1998|             Titanic|Adventure|      PG-13|Paramount Pictures|     443319081|            865842808|    94524324|\n",
      "|1999|Star Wars Ep. I: ...|Adventure|         PG|  20th Century Fox|     430443350|            776153749|    84732942|\n",
      "|2000|How the Grinch St...|Adventure|         PG|         Universal|     253367455|            430583644|    47006948|\n",
      "|2001|Harry Potter and ...|Adventure|         PG|      Warner Bros.|     300404434|            486166890|    53074988|\n",
      "|2002|          Spider-Man|Adventure|      PG-13|     Sony Pictures|     403706375|            636480273|    69484746|\n",
      "|2003|        Finding Nemo|Adventure|          G|       Walt Disney|     339714367|            516050346|    56337374|\n",
      "|2004|             Shrek 2|Adventure|         PG|    Dreamworks SKG|     441226247|            650826473|    71050925|\n",
      "|2005|Star Wars Ep. III...|   Action|      PG-13|  20th Century Fox|     380270577|            543413171|    59324582|\n",
      "|2006|Pirates of the Ca...|   Action|      PG-13|       Walt Disney|     423315812|            591995851|    64628368|\n",
      "|2007|        Spider-Man 3|Adventure|      PG-13|     Sony Pictures|     336530303|            448054878|    48914288|\n",
      "|2008|     The Dark Knight|Adventure|      PG-13|      Warner Bros.|     531001578|            677433772|    73955652|\n",
      "|2009|Transformers: Rev...|   Action|      PG-13|Paramount Pictures|     402111870|            491112631|    53614916|\n",
      "|2010|         Toy Story 3|   Action|          G|       Walt Disney|     415004880|            481805411|    52598844|\n",
      "|2011|Harry Potter and ...|   Action|      PG-13|      Warner Bros.|     381011219|            440108798|    48046812|\n",
      "|2012|        The Avengers|Adventure|      PG-13|       Walt Disney|     623357910|            717331462|    78311295|\n",
      "|2013|          Iron Man 3|Adventure|      PG-13|       Walt Disney|     408992272|            460808016|    50306552|\n",
      "|2014|Guardians of the ...|Adventure|      PG-13|       Walt Disney|     333055258|            373413235|    40765637|\n",
      "+----+--------------------+---------+-----------+------------------+--------------+---------------------+------------+\n",
      "only showing top 20 rows\n",
      "\n"
     ]
    }
   ],
   "source": [
    "df_pyspark.show()"
   ]
  },
  {
   "cell_type": "code",
   "execution_count": 13,
   "id": "781a30c3-7f3a-4e7c-9c11-f8ad98e18c2e",
   "metadata": {},
   "outputs": [
    {
     "name": "stdout",
     "output_type": "stream",
     "text": [
      "root\n",
      " |-- YEAR: integer (nullable = true)\n",
      " |-- MOVIE: string (nullable = true)\n",
      " |-- GENRE: string (nullable = true)\n",
      " |-- MPAA RATING: string (nullable = true)\n",
      " |-- DISTRIBUTOR: string (nullable = true)\n",
      " |-- TOTAL FOR YEAR: integer (nullable = true)\n",
      " |-- TOTAL IN 2019 DOLLARS: integer (nullable = true)\n",
      " |-- TICKETS SOLD: integer (nullable = true)\n",
      "\n"
     ]
    }
   ],
   "source": [
    "df_pyspark.printSchema()"
   ]
  },
  {
   "cell_type": "code",
   "execution_count": 21,
   "id": "58c17684-e5a4-477e-b82d-a2660ed5238b",
   "metadata": {},
   "outputs": [
    {
     "name": "stdout",
     "output_type": "stream",
     "text": [
      "+----+--------------------+---------+-----------+-------------+--------------+---------------------+------------+\n",
      "|YEAR|               MOVIE|    GENRE|MPAA RATING|  DISTRIBUTOR|TOTAL FOR YEAR|TOTAL IN 2019 DOLLARS|TICKETS SOLD|\n",
      "+----+--------------------+---------+-----------+-------------+--------------+---------------------+------------+\n",
      "|1995|      Batman Forever|    Drama|      PG-13| Warner Bros.|     184031112|            387522978|    42306002|\n",
      "|2000|How the Grinch St...|Adventure|         PG|    Universal|     253367455|            430583644|    47006948|\n",
      "|2007|        Spider-Man 3|Adventure|      PG-13|Sony Pictures|     336530303|            448054878|    48914288|\n",
      "|2011|Harry Potter and ...|   Action|      PG-13| Warner Bros.|     381011219|            440108798|    48046812|\n",
      "|2014|Guardians of the ...|Adventure|      PG-13|  Walt Disney|     333055258|            373413235|    40765637|\n",
      "|2020|   Bad Boys For Life|     null|          R|Sony Pictures|     204417855|            204417848|    22316359|\n",
      "|2021|Shang-Chi and the...|     null|      PG-13|  Walt Disney|     224226704|            224226704|    24478897|\n",
      "+----+--------------------+---------+-----------+-------------+--------------+---------------------+------------+\n",
      "\n"
     ]
    }
   ],
   "source": [
    "from pyspark.sql.functions import col\n",
    "\n",
    "## Movies with tickets sold less than or equal to 50 million\n",
    "df_pyspark.filter(col(\"TICKETS SOLD\") <=50000000).show()"
   ]
  },
  {
   "cell_type": "code",
   "execution_count": 31,
   "id": "b5a2d2cd-f94f-4fc9-bf78-8c5bf412e8e3",
   "metadata": {},
   "outputs": [
    {
     "name": "stdout",
     "output_type": "stream",
     "text": [
      "+----+--------------------+---------+-----------+------------------+--------------+---------------------+------------+\n",
      "|YEAR|               MOVIE|    GENRE|MPAA RATING|       DISTRIBUTOR|TOTAL FOR YEAR|TOTAL IN 2019 DOLLARS|TICKETS SOLD|\n",
      "+----+--------------------+---------+-----------+------------------+--------------+---------------------+------------+\n",
      "|1996|    Independence Day|Adventure|      PG-13|  20th Century Fox|     306169255|            634504608|    69269062|\n",
      "|1997|        Men in Black|Adventure|      PG-13|     Sony Pictures|     250650052|            500207943|    54607854|\n",
      "|1998|             Titanic|Adventure|      PG-13|Paramount Pictures|     443319081|            865842808|    94524324|\n",
      "|1999|Star Wars Ep. I: ...|Adventure|         PG|  20th Century Fox|     430443350|            776153749|    84732942|\n",
      "|2001|Harry Potter and ...|Adventure|         PG|      Warner Bros.|     300404434|            486166890|    53074988|\n",
      "|2002|          Spider-Man|Adventure|      PG-13|     Sony Pictures|     403706375|            636480273|    69484746|\n",
      "|2003|        Finding Nemo|Adventure|          G|       Walt Disney|     339714367|            516050346|    56337374|\n",
      "|2004|             Shrek 2|Adventure|         PG|    Dreamworks SKG|     441226247|            650826473|    71050925|\n",
      "|2005|Star Wars Ep. III...|   Action|      PG-13|  20th Century Fox|     380270577|            543413171|    59324582|\n",
      "|2006|Pirates of the Ca...|   Action|      PG-13|       Walt Disney|     423315812|            591995851|    64628368|\n",
      "|2008|     The Dark Knight|Adventure|      PG-13|      Warner Bros.|     531001578|            677433772|    73955652|\n",
      "|2009|Transformers: Rev...|   Action|      PG-13|Paramount Pictures|     402111870|            491112631|    53614916|\n",
      "|2010|         Toy Story 3|   Action|          G|       Walt Disney|     415004880|            481805411|    52598844|\n",
      "|2012|        The Avengers|Adventure|      PG-13|       Walt Disney|     623357910|            717331462|    78311295|\n",
      "|2013|          Iron Man 3|Adventure|      PG-13|       Walt Disney|     408992272|            460808016|    50306552|\n",
      "|2015|Star Wars Ep. VII...|   Action|      PG-13|       Walt Disney|     742208942|            806480887|    88043765|\n",
      "|2016|        Finding Dory|   Action|         PG|       Walt Disney|     486295561|            514967322|    56219140|\n",
      "|2017|Star Wars Ep. VII...|   Action|      PG-13|       Walt Disney|     517218368|            528173936|    57660910|\n",
      "|2018|       Black Panther|   Action|      PG-13|       Walt Disney|     700059566|            703901821|    76845177|\n",
      "|2019|   Avengers: Endgame|     null|      PG-13|       Walt Disney|     858373000|            858373002|    93708843|\n",
      "+----+--------------------+---------+-----------+------------------+--------------+---------------------+------------+\n",
      "\n"
     ]
    }
   ],
   "source": [
    "## Movies with tickets sold greater than 50 million\n",
    "df_pyspark.filter(~(col(\"TICKETS SOLD\") <=50000000)).show()"
   ]
  },
  {
   "cell_type": "code",
   "execution_count": 22,
   "id": "f7e54da8-9cdf-4e80-b0b4-0f231561dadd",
   "metadata": {},
   "outputs": [
    {
     "name": "stdout",
     "output_type": "stream",
     "text": [
      "+----+--------------------+\n",
      "|YEAR|               MOVIE|\n",
      "+----+--------------------+\n",
      "|2011|Harry Potter and ...|\n",
      "|2012|        The Avengers|\n",
      "|2013|          Iron Man 3|\n",
      "|2014|Guardians of the ...|\n",
      "|2015|Star Wars Ep. VII...|\n",
      "|2016|        Finding Dory|\n",
      "|2017|Star Wars Ep. VII...|\n",
      "|2018|       Black Panther|\n",
      "|2019|   Avengers: Endgame|\n",
      "|2020|   Bad Boys For Life|\n",
      "|2021|Shang-Chi and the...|\n",
      "+----+--------------------+\n",
      "\n"
     ]
    }
   ],
   "source": [
    "# Top Grossing Movies after 2019\n",
    "df_pyspark.filter(\"YEAR>2010\").select(['YEAR', 'MOVIE']).show()"
   ]
  },
  {
   "cell_type": "code",
   "execution_count": 29,
   "id": "7ebb7168-4dec-4f05-9189-0f6446217084",
   "metadata": {},
   "outputs": [
    {
     "name": "stdout",
     "output_type": "stream",
     "text": [
      "+----+-----------------+---------+-----------+------------------+--------------+---------------------+------------+\n",
      "|YEAR|            MOVIE|    GENRE|MPAA RATING|       DISTRIBUTOR|TOTAL FOR YEAR|TOTAL IN 2019 DOLLARS|TICKETS SOLD|\n",
      "+----+-----------------+---------+-----------+------------------+--------------+---------------------+------------+\n",
      "|1998|          Titanic|Adventure|      PG-13|Paramount Pictures|     443319081|            865842808|    94524324|\n",
      "|2019|Avengers: Endgame|     null|      PG-13|       Walt Disney|     858373000|            858373002|    93708843|\n",
      "+----+-----------------+---------+-----------+------------------+--------------+---------------------+------------+\n",
      "\n"
     ]
    }
   ],
   "source": [
    "df_pyspark.filter((df_pyspark[\"TOTAL IN 2019 DOLLARS\"] > 700000000) &\n",
    "                   (df_pyspark[\"TICKETS SOLD\"] > 90000000)).show()"
   ]
  }
 ],
 "metadata": {
  "kernelspec": {
   "display_name": "pyspark-env",
   "language": "python",
   "name": "pyspark-env"
  },
  "language_info": {
   "codemirror_mode": {
    "name": "ipython",
    "version": 3
   },
   "file_extension": ".py",
   "mimetype": "text/x-python",
   "name": "python",
   "nbconvert_exporter": "python",
   "pygments_lexer": "ipython3",
   "version": "3.9.1"
  }
 },
 "nbformat": 4,
 "nbformat_minor": 5
}
